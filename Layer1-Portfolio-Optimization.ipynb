{
 "cells": [
  {
   "cell_type": "markdown",
   "id": "0bb07e9f-e85e-4a7b-bbb0-eb7164c01633",
   "metadata": {},
   "source": [
    "## Mean Variance Optimal Portfolio"
   ]
  },
  {
   "cell_type": "markdown",
   "id": "f9a9f506-0820-4899-bf86-36d0b4019c13",
   "metadata": {},
   "source": [
    "Exploring the mean variance optimal portfolio for Layer 1 Blockchains using Pyportfolio and lectures from Python for Finance by Matt Brigida "
   ]
  },
  {
   "cell_type": "markdown",
   "id": "9b05e846-f099-45c9-b502-1cd9e3326997",
   "metadata": {},
   "source": [
    "### Importing the required libraries"
   ]
  },
  {
   "cell_type": "code",
   "execution_count": 29,
   "id": "20fe9f7d-e4f8-472e-a2f9-09c13f9620d0",
   "metadata": {},
   "outputs": [],
   "source": [
    "import yfinance as yf\n",
    "import matplotlib.pyplot as plt\n",
    "from pypfopt import EfficientFrontier\n",
    "from pypfopt import risk_models\n",
    "from pypfopt import expected_returns\n",
    "import pandas as pd\n",
    "import plotly.express as px\n",
    "import datetime\n",
    "from datetime import date"
   ]
  },
  {
   "cell_type": "markdown",
   "id": "89a4a9a7-1f0c-4e8f-a517-229a9dc06cf2",
   "metadata": {},
   "source": [
    "### Downloading and Importing the Stock Data into Pandas Dataframe"
   ]
  },
  {
   "cell_type": "markdown",
   "id": "0053f08f-380a-4fcf-beed-8cd6268d1a67",
   "metadata": {},
   "source": [
    "Using the yfinance library we extract the hitorical data to the dataframe stored as crypto_data"
   ]
  },
  {
   "cell_type": "code",
   "execution_count": 30,
   "id": "c3695ec0-ba1c-4f00-9ce1-a3286b391838",
   "metadata": {},
   "outputs": [
    {
     "name": "stdout",
     "output_type": "stream",
     "text": [
      "[*********************100%***********************]  8 of 8 completed\n"
     ]
    }
   ],
   "source": [
    "today = date.today()\n",
    "crypto_data = yf.download(\"AVAX-USD CRO-USD FTM-USD HEX-USD KDA-USD LUNA1-USD METIS-USD SCRT-USD\", start =\"2021-8-1\", end= today)"
   ]
  },
  {
   "cell_type": "code",
   "execution_count": 31,
   "id": "841a8066-fcfb-4914-a969-0454a9250d7c",
   "metadata": {},
   "outputs": [
    {
     "data": {
      "text/html": [
       "<div>\n",
       "<style scoped>\n",
       "    .dataframe tbody tr th:only-of-type {\n",
       "        vertical-align: middle;\n",
       "    }\n",
       "\n",
       "    .dataframe tbody tr th {\n",
       "        vertical-align: top;\n",
       "    }\n",
       "\n",
       "    .dataframe thead tr th {\n",
       "        text-align: left;\n",
       "    }\n",
       "\n",
       "    .dataframe thead tr:last-of-type th {\n",
       "        text-align: right;\n",
       "    }\n",
       "</style>\n",
       "<table border=\"1\" class=\"dataframe\">\n",
       "  <thead>\n",
       "    <tr>\n",
       "      <th></th>\n",
       "      <th colspan=\"8\" halign=\"left\">Adj Close</th>\n",
       "      <th colspan=\"2\" halign=\"left\">Close</th>\n",
       "      <th>...</th>\n",
       "      <th colspan=\"2\" halign=\"left\">Open</th>\n",
       "      <th colspan=\"8\" halign=\"left\">Volume</th>\n",
       "    </tr>\n",
       "    <tr>\n",
       "      <th></th>\n",
       "      <th>AVAX-USD</th>\n",
       "      <th>CRO-USD</th>\n",
       "      <th>FTM-USD</th>\n",
       "      <th>HEX-USD</th>\n",
       "      <th>KDA-USD</th>\n",
       "      <th>LUNA1-USD</th>\n",
       "      <th>METIS-USD</th>\n",
       "      <th>SCRT-USD</th>\n",
       "      <th>AVAX-USD</th>\n",
       "      <th>CRO-USD</th>\n",
       "      <th>...</th>\n",
       "      <th>METIS-USD</th>\n",
       "      <th>SCRT-USD</th>\n",
       "      <th>AVAX-USD</th>\n",
       "      <th>CRO-USD</th>\n",
       "      <th>FTM-USD</th>\n",
       "      <th>HEX-USD</th>\n",
       "      <th>KDA-USD</th>\n",
       "      <th>LUNA1-USD</th>\n",
       "      <th>METIS-USD</th>\n",
       "      <th>SCRT-USD</th>\n",
       "    </tr>\n",
       "    <tr>\n",
       "      <th>Date</th>\n",
       "      <th></th>\n",
       "      <th></th>\n",
       "      <th></th>\n",
       "      <th></th>\n",
       "      <th></th>\n",
       "      <th></th>\n",
       "      <th></th>\n",
       "      <th></th>\n",
       "      <th></th>\n",
       "      <th></th>\n",
       "      <th></th>\n",
       "      <th></th>\n",
       "      <th></th>\n",
       "      <th></th>\n",
       "      <th></th>\n",
       "      <th></th>\n",
       "      <th></th>\n",
       "      <th></th>\n",
       "      <th></th>\n",
       "      <th></th>\n",
       "      <th></th>\n",
       "    </tr>\n",
       "  </thead>\n",
       "  <tbody>\n",
       "    <tr>\n",
       "      <th>2021-07-31</th>\n",
       "      <td>13.591609</td>\n",
       "      <td>0.129889</td>\n",
       "      <td>0.255758</td>\n",
       "      <td>0.123039</td>\n",
       "      <td>0.343999</td>\n",
       "      <td>10.757215</td>\n",
       "      <td>5.106153</td>\n",
       "      <td>1.088934</td>\n",
       "      <td>13.591609</td>\n",
       "      <td>0.129889</td>\n",
       "      <td>...</td>\n",
       "      <td>5.120851</td>\n",
       "      <td>1.059298</td>\n",
       "      <td>67970748</td>\n",
       "      <td>29261956</td>\n",
       "      <td>38365442</td>\n",
       "      <td>29471168</td>\n",
       "      <td>537791</td>\n",
       "      <td>307229821</td>\n",
       "      <td>91632</td>\n",
       "      <td>964984</td>\n",
       "    </tr>\n",
       "    <tr>\n",
       "      <th>2021-08-01</th>\n",
       "      <td>12.877432</td>\n",
       "      <td>0.124230</td>\n",
       "      <td>0.246374</td>\n",
       "      <td>0.123434</td>\n",
       "      <td>0.357892</td>\n",
       "      <td>11.928194</td>\n",
       "      <td>4.960685</td>\n",
       "      <td>1.100719</td>\n",
       "      <td>12.877432</td>\n",
       "      <td>0.124230</td>\n",
       "      <td>...</td>\n",
       "      <td>5.108792</td>\n",
       "      <td>1.087758</td>\n",
       "      <td>90946247</td>\n",
       "      <td>28128155</td>\n",
       "      <td>48995257</td>\n",
       "      <td>23757644</td>\n",
       "      <td>739722</td>\n",
       "      <td>446563025</td>\n",
       "      <td>107653</td>\n",
       "      <td>1242602</td>\n",
       "    </tr>\n",
       "    <tr>\n",
       "      <th>2021-08-02</th>\n",
       "      <td>13.006891</td>\n",
       "      <td>0.125295</td>\n",
       "      <td>0.250918</td>\n",
       "      <td>0.117302</td>\n",
       "      <td>0.335549</td>\n",
       "      <td>12.329428</td>\n",
       "      <td>5.093099</td>\n",
       "      <td>1.097120</td>\n",
       "      <td>13.006891</td>\n",
       "      <td>0.125295</td>\n",
       "      <td>...</td>\n",
       "      <td>4.822959</td>\n",
       "      <td>1.099860</td>\n",
       "      <td>54993392</td>\n",
       "      <td>48367917</td>\n",
       "      <td>37332532</td>\n",
       "      <td>28343584</td>\n",
       "      <td>706029</td>\n",
       "      <td>391321193</td>\n",
       "      <td>114671</td>\n",
       "      <td>1397833</td>\n",
       "    </tr>\n",
       "    <tr>\n",
       "      <th>2021-08-03</th>\n",
       "      <td>12.533294</td>\n",
       "      <td>0.119488</td>\n",
       "      <td>0.237588</td>\n",
       "      <td>0.141227</td>\n",
       "      <td>0.335746</td>\n",
       "      <td>14.719025</td>\n",
       "      <td>4.983076</td>\n",
       "      <td>1.075057</td>\n",
       "      <td>12.533294</td>\n",
       "      <td>0.119488</td>\n",
       "      <td>...</td>\n",
       "      <td>5.098373</td>\n",
       "      <td>1.097538</td>\n",
       "      <td>60826755</td>\n",
       "      <td>26645802</td>\n",
       "      <td>27421957</td>\n",
       "      <td>51687160</td>\n",
       "      <td>521128</td>\n",
       "      <td>890636970</td>\n",
       "      <td>86491</td>\n",
       "      <td>1240233</td>\n",
       "    </tr>\n",
       "    <tr>\n",
       "      <th>2021-08-04</th>\n",
       "      <td>13.679925</td>\n",
       "      <td>0.126166</td>\n",
       "      <td>0.244945</td>\n",
       "      <td>0.145970</td>\n",
       "      <td>0.331711</td>\n",
       "      <td>14.513123</td>\n",
       "      <td>4.970394</td>\n",
       "      <td>1.261684</td>\n",
       "      <td>13.679925</td>\n",
       "      <td>0.126166</td>\n",
       "      <td>...</td>\n",
       "      <td>4.994420</td>\n",
       "      <td>1.077270</td>\n",
       "      <td>66911765</td>\n",
       "      <td>32410574</td>\n",
       "      <td>32686295</td>\n",
       "      <td>44312597</td>\n",
       "      <td>549997</td>\n",
       "      <td>787381881</td>\n",
       "      <td>89661</td>\n",
       "      <td>7764487</td>\n",
       "    </tr>\n",
       "    <tr>\n",
       "      <th>...</th>\n",
       "      <td>...</td>\n",
       "      <td>...</td>\n",
       "      <td>...</td>\n",
       "      <td>...</td>\n",
       "      <td>...</td>\n",
       "      <td>...</td>\n",
       "      <td>...</td>\n",
       "      <td>...</td>\n",
       "      <td>...</td>\n",
       "      <td>...</td>\n",
       "      <td>...</td>\n",
       "      <td>...</td>\n",
       "      <td>...</td>\n",
       "      <td>...</td>\n",
       "      <td>...</td>\n",
       "      <td>...</td>\n",
       "      <td>...</td>\n",
       "      <td>...</td>\n",
       "      <td>...</td>\n",
       "      <td>...</td>\n",
       "      <td>...</td>\n",
       "    </tr>\n",
       "    <tr>\n",
       "      <th>2022-02-17</th>\n",
       "      <td>88.123772</td>\n",
       "      <td>0.429725</td>\n",
       "      <td>1.893281</td>\n",
       "      <td>0.188344</td>\n",
       "      <td>7.162840</td>\n",
       "      <td>50.254269</td>\n",
       "      <td>127.757233</td>\n",
       "      <td>6.129787</td>\n",
       "      <td>88.123772</td>\n",
       "      <td>0.429725</td>\n",
       "      <td>...</td>\n",
       "      <td>158.615829</td>\n",
       "      <td>6.652379</td>\n",
       "      <td>1798309218</td>\n",
       "      <td>147199196</td>\n",
       "      <td>818157046</td>\n",
       "      <td>37354023</td>\n",
       "      <td>147541548</td>\n",
       "      <td>1165569230</td>\n",
       "      <td>45998332</td>\n",
       "      <td>35972644</td>\n",
       "    </tr>\n",
       "    <tr>\n",
       "      <th>2022-02-18</th>\n",
       "      <td>83.836975</td>\n",
       "      <td>0.435283</td>\n",
       "      <td>1.866916</td>\n",
       "      <td>0.177592</td>\n",
       "      <td>6.813983</td>\n",
       "      <td>50.726456</td>\n",
       "      <td>119.086220</td>\n",
       "      <td>6.063940</td>\n",
       "      <td>83.836975</td>\n",
       "      <td>0.435283</td>\n",
       "      <td>...</td>\n",
       "      <td>127.745872</td>\n",
       "      <td>6.133684</td>\n",
       "      <td>1283023478</td>\n",
       "      <td>170287754</td>\n",
       "      <td>562000106</td>\n",
       "      <td>19040836</td>\n",
       "      <td>51442854</td>\n",
       "      <td>1263578810</td>\n",
       "      <td>34928695</td>\n",
       "      <td>33188080</td>\n",
       "    </tr>\n",
       "    <tr>\n",
       "      <th>2022-02-19</th>\n",
       "      <td>85.099319</td>\n",
       "      <td>0.436837</td>\n",
       "      <td>1.876619</td>\n",
       "      <td>0.178760</td>\n",
       "      <td>6.967293</td>\n",
       "      <td>50.432465</td>\n",
       "      <td>118.571327</td>\n",
       "      <td>6.000636</td>\n",
       "      <td>85.099319</td>\n",
       "      <td>0.436837</td>\n",
       "      <td>...</td>\n",
       "      <td>119.069847</td>\n",
       "      <td>6.062823</td>\n",
       "      <td>850252533</td>\n",
       "      <td>94871141</td>\n",
       "      <td>337348806</td>\n",
       "      <td>16395261</td>\n",
       "      <td>29400850</td>\n",
       "      <td>881733436</td>\n",
       "      <td>27705304</td>\n",
       "      <td>20833160</td>\n",
       "    </tr>\n",
       "    <tr>\n",
       "      <th>2022-02-20</th>\n",
       "      <td>77.336784</td>\n",
       "      <td>0.404562</td>\n",
       "      <td>1.729576</td>\n",
       "      <td>0.157774</td>\n",
       "      <td>6.198658</td>\n",
       "      <td>49.364559</td>\n",
       "      <td>110.083969</td>\n",
       "      <td>5.619753</td>\n",
       "      <td>77.336784</td>\n",
       "      <td>0.404562</td>\n",
       "      <td>...</td>\n",
       "      <td>118.581650</td>\n",
       "      <td>6.000649</td>\n",
       "      <td>984477195</td>\n",
       "      <td>110537230</td>\n",
       "      <td>701777691</td>\n",
       "      <td>25596197</td>\n",
       "      <td>45711987</td>\n",
       "      <td>1092855688</td>\n",
       "      <td>28615613</td>\n",
       "      <td>21997098</td>\n",
       "    </tr>\n",
       "    <tr>\n",
       "      <th>2022-02-21</th>\n",
       "      <td>69.988930</td>\n",
       "      <td>0.385949</td>\n",
       "      <td>1.541422</td>\n",
       "      <td>0.162088</td>\n",
       "      <td>5.836202</td>\n",
       "      <td>50.176693</td>\n",
       "      <td>105.836937</td>\n",
       "      <td>5.452533</td>\n",
       "      <td>69.988930</td>\n",
       "      <td>0.385949</td>\n",
       "      <td>...</td>\n",
       "      <td>110.062759</td>\n",
       "      <td>5.620300</td>\n",
       "      <td>1626858109</td>\n",
       "      <td>146932635</td>\n",
       "      <td>1018263085</td>\n",
       "      <td>14411208</td>\n",
       "      <td>72223440</td>\n",
       "      <td>2011987505</td>\n",
       "      <td>40283079</td>\n",
       "      <td>35743122</td>\n",
       "    </tr>\n",
       "  </tbody>\n",
       "</table>\n",
       "<p>206 rows × 48 columns</p>\n",
       "</div>"
      ],
      "text/plain": [
       "            Adj Close                                                     \\\n",
       "             AVAX-USD   CRO-USD   FTM-USD   HEX-USD   KDA-USD  LUNA1-USD   \n",
       "Date                                                                       \n",
       "2021-07-31  13.591609  0.129889  0.255758  0.123039  0.343999  10.757215   \n",
       "2021-08-01  12.877432  0.124230  0.246374  0.123434  0.357892  11.928194   \n",
       "2021-08-02  13.006891  0.125295  0.250918  0.117302  0.335549  12.329428   \n",
       "2021-08-03  12.533294  0.119488  0.237588  0.141227  0.335746  14.719025   \n",
       "2021-08-04  13.679925  0.126166  0.244945  0.145970  0.331711  14.513123   \n",
       "...               ...       ...       ...       ...       ...        ...   \n",
       "2022-02-17  88.123772  0.429725  1.893281  0.188344  7.162840  50.254269   \n",
       "2022-02-18  83.836975  0.435283  1.866916  0.177592  6.813983  50.726456   \n",
       "2022-02-19  85.099319  0.436837  1.876619  0.178760  6.967293  50.432465   \n",
       "2022-02-20  77.336784  0.404562  1.729576  0.157774  6.198658  49.364559   \n",
       "2022-02-21  69.988930  0.385949  1.541422  0.162088  5.836202  50.176693   \n",
       "\n",
       "                                      Close            ...        Open  \\\n",
       "             METIS-USD  SCRT-USD   AVAX-USD   CRO-USD  ...   METIS-USD   \n",
       "Date                                                   ...               \n",
       "2021-07-31    5.106153  1.088934  13.591609  0.129889  ...    5.120851   \n",
       "2021-08-01    4.960685  1.100719  12.877432  0.124230  ...    5.108792   \n",
       "2021-08-02    5.093099  1.097120  13.006891  0.125295  ...    4.822959   \n",
       "2021-08-03    4.983076  1.075057  12.533294  0.119488  ...    5.098373   \n",
       "2021-08-04    4.970394  1.261684  13.679925  0.126166  ...    4.994420   \n",
       "...                ...       ...        ...       ...  ...         ...   \n",
       "2022-02-17  127.757233  6.129787  88.123772  0.429725  ...  158.615829   \n",
       "2022-02-18  119.086220  6.063940  83.836975  0.435283  ...  127.745872   \n",
       "2022-02-19  118.571327  6.000636  85.099319  0.436837  ...  119.069847   \n",
       "2022-02-20  110.083969  5.619753  77.336784  0.404562  ...  118.581650   \n",
       "2022-02-21  105.836937  5.452533  69.988930  0.385949  ...  110.062759   \n",
       "\n",
       "                          Volume                                              \\\n",
       "            SCRT-USD    AVAX-USD    CRO-USD     FTM-USD   HEX-USD    KDA-USD   \n",
       "Date                                                                           \n",
       "2021-07-31  1.059298    67970748   29261956    38365442  29471168     537791   \n",
       "2021-08-01  1.087758    90946247   28128155    48995257  23757644     739722   \n",
       "2021-08-02  1.099860    54993392   48367917    37332532  28343584     706029   \n",
       "2021-08-03  1.097538    60826755   26645802    27421957  51687160     521128   \n",
       "2021-08-04  1.077270    66911765   32410574    32686295  44312597     549997   \n",
       "...              ...         ...        ...         ...       ...        ...   \n",
       "2022-02-17  6.652379  1798309218  147199196   818157046  37354023  147541548   \n",
       "2022-02-18  6.133684  1283023478  170287754   562000106  19040836   51442854   \n",
       "2022-02-19  6.062823   850252533   94871141   337348806  16395261   29400850   \n",
       "2022-02-20  6.000649   984477195  110537230   701777691  25596197   45711987   \n",
       "2022-02-21  5.620300  1626858109  146932635  1018263085  14411208   72223440   \n",
       "\n",
       "                                            \n",
       "             LUNA1-USD METIS-USD  SCRT-USD  \n",
       "Date                                        \n",
       "2021-07-31   307229821     91632    964984  \n",
       "2021-08-01   446563025    107653   1242602  \n",
       "2021-08-02   391321193    114671   1397833  \n",
       "2021-08-03   890636970     86491   1240233  \n",
       "2021-08-04   787381881     89661   7764487  \n",
       "...                ...       ...       ...  \n",
       "2022-02-17  1165569230  45998332  35972644  \n",
       "2022-02-18  1263578810  34928695  33188080  \n",
       "2022-02-19   881733436  27705304  20833160  \n",
       "2022-02-20  1092855688  28615613  21997098  \n",
       "2022-02-21  2011987505  40283079  35743122  \n",
       "\n",
       "[206 rows x 48 columns]"
      ]
     },
     "execution_count": 31,
     "metadata": {},
     "output_type": "execute_result"
    }
   ],
   "source": [
    "crypto_data"
   ]
  },
  {
   "cell_type": "markdown",
   "id": "8c73f7ad-db45-49ca-8fa1-034fbcc6304f",
   "metadata": {},
   "source": [
    "Extracting just the adjusted close data from dataframe:"
   ]
  },
  {
   "cell_type": "code",
   "execution_count": 32,
   "id": "30068386-cb8c-472b-9d01-94b903bfa152",
   "metadata": {},
   "outputs": [
    {
     "data": {
      "text/html": [
       "<div>\n",
       "<style scoped>\n",
       "    .dataframe tbody tr th:only-of-type {\n",
       "        vertical-align: middle;\n",
       "    }\n",
       "\n",
       "    .dataframe tbody tr th {\n",
       "        vertical-align: top;\n",
       "    }\n",
       "\n",
       "    .dataframe thead th {\n",
       "        text-align: right;\n",
       "    }\n",
       "</style>\n",
       "<table border=\"1\" class=\"dataframe\">\n",
       "  <thead>\n",
       "    <tr style=\"text-align: right;\">\n",
       "      <th></th>\n",
       "      <th>AVAX-USD</th>\n",
       "      <th>CRO-USD</th>\n",
       "      <th>FTM-USD</th>\n",
       "      <th>HEX-USD</th>\n",
       "      <th>KDA-USD</th>\n",
       "      <th>LUNA1-USD</th>\n",
       "      <th>METIS-USD</th>\n",
       "      <th>SCRT-USD</th>\n",
       "    </tr>\n",
       "    <tr>\n",
       "      <th>Date</th>\n",
       "      <th></th>\n",
       "      <th></th>\n",
       "      <th></th>\n",
       "      <th></th>\n",
       "      <th></th>\n",
       "      <th></th>\n",
       "      <th></th>\n",
       "      <th></th>\n",
       "    </tr>\n",
       "  </thead>\n",
       "  <tbody>\n",
       "    <tr>\n",
       "      <th>2021-07-31</th>\n",
       "      <td>13.591609</td>\n",
       "      <td>0.129889</td>\n",
       "      <td>0.255758</td>\n",
       "      <td>0.123039</td>\n",
       "      <td>0.343999</td>\n",
       "      <td>10.757215</td>\n",
       "      <td>5.106153</td>\n",
       "      <td>1.088934</td>\n",
       "    </tr>\n",
       "    <tr>\n",
       "      <th>2021-08-01</th>\n",
       "      <td>12.877432</td>\n",
       "      <td>0.124230</td>\n",
       "      <td>0.246374</td>\n",
       "      <td>0.123434</td>\n",
       "      <td>0.357892</td>\n",
       "      <td>11.928194</td>\n",
       "      <td>4.960685</td>\n",
       "      <td>1.100719</td>\n",
       "    </tr>\n",
       "    <tr>\n",
       "      <th>2021-08-02</th>\n",
       "      <td>13.006891</td>\n",
       "      <td>0.125295</td>\n",
       "      <td>0.250918</td>\n",
       "      <td>0.117302</td>\n",
       "      <td>0.335549</td>\n",
       "      <td>12.329428</td>\n",
       "      <td>5.093099</td>\n",
       "      <td>1.097120</td>\n",
       "    </tr>\n",
       "    <tr>\n",
       "      <th>2021-08-03</th>\n",
       "      <td>12.533294</td>\n",
       "      <td>0.119488</td>\n",
       "      <td>0.237588</td>\n",
       "      <td>0.141227</td>\n",
       "      <td>0.335746</td>\n",
       "      <td>14.719025</td>\n",
       "      <td>4.983076</td>\n",
       "      <td>1.075057</td>\n",
       "    </tr>\n",
       "    <tr>\n",
       "      <th>2021-08-04</th>\n",
       "      <td>13.679925</td>\n",
       "      <td>0.126166</td>\n",
       "      <td>0.244945</td>\n",
       "      <td>0.145970</td>\n",
       "      <td>0.331711</td>\n",
       "      <td>14.513123</td>\n",
       "      <td>4.970394</td>\n",
       "      <td>1.261684</td>\n",
       "    </tr>\n",
       "    <tr>\n",
       "      <th>...</th>\n",
       "      <td>...</td>\n",
       "      <td>...</td>\n",
       "      <td>...</td>\n",
       "      <td>...</td>\n",
       "      <td>...</td>\n",
       "      <td>...</td>\n",
       "      <td>...</td>\n",
       "      <td>...</td>\n",
       "    </tr>\n",
       "    <tr>\n",
       "      <th>2022-02-17</th>\n",
       "      <td>88.123772</td>\n",
       "      <td>0.429725</td>\n",
       "      <td>1.893281</td>\n",
       "      <td>0.188344</td>\n",
       "      <td>7.162840</td>\n",
       "      <td>50.254269</td>\n",
       "      <td>127.757233</td>\n",
       "      <td>6.129787</td>\n",
       "    </tr>\n",
       "    <tr>\n",
       "      <th>2022-02-18</th>\n",
       "      <td>83.836975</td>\n",
       "      <td>0.435283</td>\n",
       "      <td>1.866916</td>\n",
       "      <td>0.177592</td>\n",
       "      <td>6.813983</td>\n",
       "      <td>50.726456</td>\n",
       "      <td>119.086220</td>\n",
       "      <td>6.063940</td>\n",
       "    </tr>\n",
       "    <tr>\n",
       "      <th>2022-02-19</th>\n",
       "      <td>85.099319</td>\n",
       "      <td>0.436837</td>\n",
       "      <td>1.876619</td>\n",
       "      <td>0.178760</td>\n",
       "      <td>6.967293</td>\n",
       "      <td>50.432465</td>\n",
       "      <td>118.571327</td>\n",
       "      <td>6.000636</td>\n",
       "    </tr>\n",
       "    <tr>\n",
       "      <th>2022-02-20</th>\n",
       "      <td>77.336784</td>\n",
       "      <td>0.404562</td>\n",
       "      <td>1.729576</td>\n",
       "      <td>0.157774</td>\n",
       "      <td>6.198658</td>\n",
       "      <td>49.364559</td>\n",
       "      <td>110.083969</td>\n",
       "      <td>5.619753</td>\n",
       "    </tr>\n",
       "    <tr>\n",
       "      <th>2022-02-21</th>\n",
       "      <td>69.988930</td>\n",
       "      <td>0.385949</td>\n",
       "      <td>1.541422</td>\n",
       "      <td>0.162088</td>\n",
       "      <td>5.836202</td>\n",
       "      <td>50.176693</td>\n",
       "      <td>105.836937</td>\n",
       "      <td>5.452533</td>\n",
       "    </tr>\n",
       "  </tbody>\n",
       "</table>\n",
       "<p>206 rows × 8 columns</p>\n",
       "</div>"
      ],
      "text/plain": [
       "             AVAX-USD   CRO-USD   FTM-USD   HEX-USD   KDA-USD  LUNA1-USD  \\\n",
       "Date                                                                       \n",
       "2021-07-31  13.591609  0.129889  0.255758  0.123039  0.343999  10.757215   \n",
       "2021-08-01  12.877432  0.124230  0.246374  0.123434  0.357892  11.928194   \n",
       "2021-08-02  13.006891  0.125295  0.250918  0.117302  0.335549  12.329428   \n",
       "2021-08-03  12.533294  0.119488  0.237588  0.141227  0.335746  14.719025   \n",
       "2021-08-04  13.679925  0.126166  0.244945  0.145970  0.331711  14.513123   \n",
       "...               ...       ...       ...       ...       ...        ...   \n",
       "2022-02-17  88.123772  0.429725  1.893281  0.188344  7.162840  50.254269   \n",
       "2022-02-18  83.836975  0.435283  1.866916  0.177592  6.813983  50.726456   \n",
       "2022-02-19  85.099319  0.436837  1.876619  0.178760  6.967293  50.432465   \n",
       "2022-02-20  77.336784  0.404562  1.729576  0.157774  6.198658  49.364559   \n",
       "2022-02-21  69.988930  0.385949  1.541422  0.162088  5.836202  50.176693   \n",
       "\n",
       "             METIS-USD  SCRT-USD  \n",
       "Date                              \n",
       "2021-07-31    5.106153  1.088934  \n",
       "2021-08-01    4.960685  1.100719  \n",
       "2021-08-02    5.093099  1.097120  \n",
       "2021-08-03    4.983076  1.075057  \n",
       "2021-08-04    4.970394  1.261684  \n",
       "...                ...       ...  \n",
       "2022-02-17  127.757233  6.129787  \n",
       "2022-02-18  119.086220  6.063940  \n",
       "2022-02-19  118.571327  6.000636  \n",
       "2022-02-20  110.083969  5.619753  \n",
       "2022-02-21  105.836937  5.452533  \n",
       "\n",
       "[206 rows x 8 columns]"
      ]
     },
     "execution_count": 32,
     "metadata": {},
     "output_type": "execute_result"
    }
   ],
   "source": [
    "crypto_adj_close_data = crypto_data['Adj Close']\n",
    "crypto_adj_close_data #crypto_data=stock_data=crypt_adj"
   ]
  },
  {
   "cell_type": "markdown",
   "id": "b7edd8e6-7cb1-4f85-b278-470485029b24",
   "metadata": {},
   "source": [
    "We need to convert the price series into percentage change (returns) using the pct_change function from the pandas library."
   ]
  },
  {
   "cell_type": "code",
   "execution_count": 33,
   "id": "00759c5a-6c3e-4a7a-b565-2e768c458681",
   "metadata": {},
   "outputs": [],
   "source": [
    "crypto_returns = crypto_adj_close_data.pct_change()[1:] #Calculated from the secod row and onwards"
   ]
  },
  {
   "cell_type": "code",
   "execution_count": 34,
   "id": "d4db75e5-6da7-41a2-aa8e-660c3a319f17",
   "metadata": {},
   "outputs": [
    {
     "data": {
      "text/html": [
       "<div>\n",
       "<style scoped>\n",
       "    .dataframe tbody tr th:only-of-type {\n",
       "        vertical-align: middle;\n",
       "    }\n",
       "\n",
       "    .dataframe tbody tr th {\n",
       "        vertical-align: top;\n",
       "    }\n",
       "\n",
       "    .dataframe thead th {\n",
       "        text-align: right;\n",
       "    }\n",
       "</style>\n",
       "<table border=\"1\" class=\"dataframe\">\n",
       "  <thead>\n",
       "    <tr style=\"text-align: right;\">\n",
       "      <th></th>\n",
       "      <th>AVAX-USD</th>\n",
       "      <th>CRO-USD</th>\n",
       "      <th>FTM-USD</th>\n",
       "      <th>HEX-USD</th>\n",
       "      <th>KDA-USD</th>\n",
       "      <th>LUNA1-USD</th>\n",
       "      <th>METIS-USD</th>\n",
       "      <th>SCRT-USD</th>\n",
       "    </tr>\n",
       "    <tr>\n",
       "      <th>Date</th>\n",
       "      <th></th>\n",
       "      <th></th>\n",
       "      <th></th>\n",
       "      <th></th>\n",
       "      <th></th>\n",
       "      <th></th>\n",
       "      <th></th>\n",
       "      <th></th>\n",
       "    </tr>\n",
       "  </thead>\n",
       "  <tbody>\n",
       "    <tr>\n",
       "      <th>2021-08-01</th>\n",
       "      <td>-0.052545</td>\n",
       "      <td>-0.043568</td>\n",
       "      <td>-0.036691</td>\n",
       "      <td>0.003210</td>\n",
       "      <td>0.040387</td>\n",
       "      <td>0.108855</td>\n",
       "      <td>-0.028489</td>\n",
       "      <td>0.010823</td>\n",
       "    </tr>\n",
       "    <tr>\n",
       "      <th>2021-08-02</th>\n",
       "      <td>0.010053</td>\n",
       "      <td>0.008573</td>\n",
       "      <td>0.018444</td>\n",
       "      <td>-0.049678</td>\n",
       "      <td>-0.062429</td>\n",
       "      <td>0.033637</td>\n",
       "      <td>0.026693</td>\n",
       "      <td>-0.003270</td>\n",
       "    </tr>\n",
       "    <tr>\n",
       "      <th>2021-08-03</th>\n",
       "      <td>-0.036411</td>\n",
       "      <td>-0.046347</td>\n",
       "      <td>-0.053125</td>\n",
       "      <td>0.203961</td>\n",
       "      <td>0.000587</td>\n",
       "      <td>0.193812</td>\n",
       "      <td>-0.021602</td>\n",
       "      <td>-0.020110</td>\n",
       "    </tr>\n",
       "    <tr>\n",
       "      <th>2021-08-04</th>\n",
       "      <td>0.091487</td>\n",
       "      <td>0.055888</td>\n",
       "      <td>0.030965</td>\n",
       "      <td>0.033584</td>\n",
       "      <td>-0.012018</td>\n",
       "      <td>-0.013989</td>\n",
       "      <td>-0.002545</td>\n",
       "      <td>0.173597</td>\n",
       "    </tr>\n",
       "    <tr>\n",
       "      <th>2021-08-05</th>\n",
       "      <td>0.011283</td>\n",
       "      <td>0.030333</td>\n",
       "      <td>0.061646</td>\n",
       "      <td>-0.007296</td>\n",
       "      <td>0.017434</td>\n",
       "      <td>0.002860</td>\n",
       "      <td>0.017906</td>\n",
       "      <td>0.005465</td>\n",
       "    </tr>\n",
       "    <tr>\n",
       "      <th>...</th>\n",
       "      <td>...</td>\n",
       "      <td>...</td>\n",
       "      <td>...</td>\n",
       "      <td>...</td>\n",
       "      <td>...</td>\n",
       "      <td>...</td>\n",
       "      <td>...</td>\n",
       "      <td>...</td>\n",
       "    </tr>\n",
       "    <tr>\n",
       "      <th>2022-02-17</th>\n",
       "      <td>-0.075749</td>\n",
       "      <td>-0.104417</td>\n",
       "      <td>-0.085328</td>\n",
       "      <td>-0.046625</td>\n",
       "      <td>-0.116699</td>\n",
       "      <td>-0.103491</td>\n",
       "      <td>-0.194582</td>\n",
       "      <td>-0.078854</td>\n",
       "    </tr>\n",
       "    <tr>\n",
       "      <th>2022-02-18</th>\n",
       "      <td>-0.048645</td>\n",
       "      <td>0.012934</td>\n",
       "      <td>-0.013926</td>\n",
       "      <td>-0.057087</td>\n",
       "      <td>-0.048704</td>\n",
       "      <td>0.009396</td>\n",
       "      <td>-0.067871</td>\n",
       "      <td>-0.010742</td>\n",
       "    </tr>\n",
       "    <tr>\n",
       "      <th>2022-02-19</th>\n",
       "      <td>0.015057</td>\n",
       "      <td>0.003570</td>\n",
       "      <td>0.005197</td>\n",
       "      <td>0.006577</td>\n",
       "      <td>0.022499</td>\n",
       "      <td>-0.005796</td>\n",
       "      <td>-0.004324</td>\n",
       "      <td>-0.010439</td>\n",
       "    </tr>\n",
       "    <tr>\n",
       "      <th>2022-02-20</th>\n",
       "      <td>-0.091217</td>\n",
       "      <td>-0.073883</td>\n",
       "      <td>-0.078355</td>\n",
       "      <td>-0.117398</td>\n",
       "      <td>-0.110320</td>\n",
       "      <td>-0.021175</td>\n",
       "      <td>-0.071580</td>\n",
       "      <td>-0.063474</td>\n",
       "    </tr>\n",
       "    <tr>\n",
       "      <th>2022-02-21</th>\n",
       "      <td>-0.095011</td>\n",
       "      <td>-0.046008</td>\n",
       "      <td>-0.108786</td>\n",
       "      <td>0.027343</td>\n",
       "      <td>-0.058473</td>\n",
       "      <td>0.016452</td>\n",
       "      <td>-0.038580</td>\n",
       "      <td>-0.029756</td>\n",
       "    </tr>\n",
       "  </tbody>\n",
       "</table>\n",
       "<p>205 rows × 8 columns</p>\n",
       "</div>"
      ],
      "text/plain": [
       "            AVAX-USD   CRO-USD   FTM-USD   HEX-USD   KDA-USD  LUNA1-USD  \\\n",
       "Date                                                                      \n",
       "2021-08-01 -0.052545 -0.043568 -0.036691  0.003210  0.040387   0.108855   \n",
       "2021-08-02  0.010053  0.008573  0.018444 -0.049678 -0.062429   0.033637   \n",
       "2021-08-03 -0.036411 -0.046347 -0.053125  0.203961  0.000587   0.193812   \n",
       "2021-08-04  0.091487  0.055888  0.030965  0.033584 -0.012018  -0.013989   \n",
       "2021-08-05  0.011283  0.030333  0.061646 -0.007296  0.017434   0.002860   \n",
       "...              ...       ...       ...       ...       ...        ...   \n",
       "2022-02-17 -0.075749 -0.104417 -0.085328 -0.046625 -0.116699  -0.103491   \n",
       "2022-02-18 -0.048645  0.012934 -0.013926 -0.057087 -0.048704   0.009396   \n",
       "2022-02-19  0.015057  0.003570  0.005197  0.006577  0.022499  -0.005796   \n",
       "2022-02-20 -0.091217 -0.073883 -0.078355 -0.117398 -0.110320  -0.021175   \n",
       "2022-02-21 -0.095011 -0.046008 -0.108786  0.027343 -0.058473   0.016452   \n",
       "\n",
       "            METIS-USD  SCRT-USD  \n",
       "Date                             \n",
       "2021-08-01  -0.028489  0.010823  \n",
       "2021-08-02   0.026693 -0.003270  \n",
       "2021-08-03  -0.021602 -0.020110  \n",
       "2021-08-04  -0.002545  0.173597  \n",
       "2021-08-05   0.017906  0.005465  \n",
       "...               ...       ...  \n",
       "2022-02-17  -0.194582 -0.078854  \n",
       "2022-02-18  -0.067871 -0.010742  \n",
       "2022-02-19  -0.004324 -0.010439  \n",
       "2022-02-20  -0.071580 -0.063474  \n",
       "2022-02-21  -0.038580 -0.029756  \n",
       "\n",
       "[205 rows x 8 columns]"
      ]
     },
     "execution_count": 34,
     "metadata": {},
     "output_type": "execute_result"
    }
   ],
   "source": [
    "crypto_returns"
   ]
  },
  {
   "cell_type": "markdown",
   "id": "56164f27-5441-43d4-8476-f3b21ccb5bf2",
   "metadata": {},
   "source": [
    "### Calculating the Expected Returns and the Variance-Covariance Matrix"
   ]
  },
  {
   "cell_type": "markdown",
   "id": "c4a56e29-3b35-4f68-a6bc-685f073b2625",
   "metadata": {},
   "source": [
    "We will use the PyPortfolio package to calculate the expected returns rather than the raw approach:"
   ]
  },
  {
   "cell_type": "markdown",
   "id": "792d036d-5d01-414d-bee3-7923edaf1188",
   "metadata": {},
   "source": [
    "Using Pyportfolio package:"
   ]
  },
  {
   "cell_type": "code",
   "execution_count": 35,
   "id": "42c835b2-792e-4999-9cf9-5f9110abc84f",
   "metadata": {},
   "outputs": [],
   "source": [
    "mu2 = expected_returns.mean_historical_return(crypto_adj_close_data)"
   ]
  },
  {
   "cell_type": "markdown",
   "id": "a494245c-6fae-4497-b353-d07ff0543d4b",
   "metadata": {},
   "source": [
    "Using Raw method:"
   ]
  },
  {
   "cell_type": "raw",
   "id": "cd4b2700-2b11-4f86-a2b1-9a64463b2fcb",
   "metadata": {},
   "source": [
    "mu = crypto_returns.mean()\n",
    "print(mu)\n",
    "type(mu)"
   ]
  },
  {
   "cell_type": "markdown",
   "id": "da17d5bc-5ced-4d7c-b8c1-726a4916e799",
   "metadata": {},
   "source": [
    "Displaying the returns:"
   ]
  },
  {
   "cell_type": "code",
   "execution_count": 36,
   "id": "3baac0eb-0a12-4de5-a5cf-d592e8613057",
   "metadata": {},
   "outputs": [
    {
     "name": "stdout",
     "output_type": "stream",
     "text": [
      "AVAX-USD      6.497943\n",
      "CRO-USD       2.814097\n",
      "FTM-USD       8.097934\n",
      "HEX-USD       0.403309\n",
      "KDA-USD      31.469476\n",
      "LUNA1-USD     5.639530\n",
      "METIS-USD    40.532216\n",
      "SCRT-USD      6.244228\n",
      "dtype: float64\n"
     ]
    },
    {
     "data": {
      "text/plain": [
       "pandas.core.series.Series"
      ]
     },
     "execution_count": 36,
     "metadata": {},
     "output_type": "execute_result"
    }
   ],
   "source": [
    "print(mu2)\n",
    "type(mu2)"
   ]
  },
  {
   "cell_type": "code",
   "execution_count": 37,
   "id": "544e4629-0b6b-4f63-ad9b-f54def40b1f4",
   "metadata": {},
   "outputs": [
    {
     "data": {
      "text/plain": [
       "<AxesSubplot:xlabel='Date'>"
      ]
     },
     "execution_count": 37,
     "metadata": {},
     "output_type": "execute_result"
    },
    {
     "data": {
      "image/png": "[encoded data removed]",
      "text/plain": [
       "<Figure size 432x288 with 1 Axes>"
      ]
     },
     "metadata": {
      "needs_background": "light"
     },
     "output_type": "display_data"
    }
   ],
   "source": [
    "crypto_adj_close_data.pct_change()[1:].cumsum().plot()"
   ]
  },
  {
   "cell_type": "markdown",
   "id": "dbe1e40c-7e5c-49b5-a386-ec743b48ff08",
   "metadata": {},
   "source": [
    "### Variance-Covariance Matrix"
   ]
  },
  {
   "cell_type": "markdown",
   "id": "2f5a4fe1-c0b6-4f2d-85a6-c0c966bf607c",
   "metadata": {},
   "source": [
    "Using Pyportfolio package:"
   ]
  },
  {
   "cell_type": "code",
   "execution_count": 38,
   "id": "f0b32a33-1968-4eae-ac59-25b938a3b246",
   "metadata": {},
   "outputs": [
    {
     "name": "stdout",
     "output_type": "stream",
     "text": [
      "           AVAX-USD   CRO-USD   FTM-USD   HEX-USD   KDA-USD  LUNA1-USD  \\\n",
      "AVAX-USD   1.580995  0.552282  0.594812  0.180693  0.780637   0.819485   \n",
      "CRO-USD    0.552282  1.138635  0.645307  0.078559  0.574765   0.358592   \n",
      "FTM-USD    0.594812  0.645307  2.071635  0.289930  0.642901   0.605968   \n",
      "HEX-USD    0.180693  0.078559  0.289930  1.435242  0.175524   0.254806   \n",
      "KDA-USD    0.780637  0.574765  0.642901  0.175524  2.763425   0.661845   \n",
      "LUNA1-USD  0.819485  0.358592  0.605968  0.254806  0.661845   1.642882   \n",
      "METIS-USD  0.651337  0.922034  1.253189  0.492537  1.143852   0.364819   \n",
      "SCRT-USD   0.648261  0.614336  0.898371  0.225799  0.708742   0.624956   \n",
      "\n",
      "           METIS-USD  SCRT-USD  \n",
      "AVAX-USD    0.651337  0.648261  \n",
      "CRO-USD     0.922034  0.614336  \n",
      "FTM-USD     1.253189  0.898371  \n",
      "HEX-USD     0.492537  0.225799  \n",
      "KDA-USD     1.143852  0.708742  \n",
      "LUNA1-USD   0.364819  0.624956  \n",
      "METIS-USD   4.567298  0.929646  \n",
      "SCRT-USD    0.929646  1.829948  \n"
     ]
    },
    {
     "data": {
      "text/plain": [
       "pandas.core.frame.DataFrame"
      ]
     },
     "execution_count": 38,
     "metadata": {},
     "output_type": "execute_result"
    }
   ],
   "source": [
    "cov_matrix2 = risk_models.sample_cov(crypto_adj_close_data)\n",
    "print(cov_matrix2)\n",
    "type(cov_matrix2)"
   ]
  },
  {
   "cell_type": "markdown",
   "id": "db941dde-8f81-48ed-8c3e-cd074015fa7a",
   "metadata": {},
   "source": [
    "Using Raw method:"
   ]
  },
  {
   "cell_type": "code",
   "execution_count": 39,
   "id": "6daa69bb-4271-4d65-8ba6-5ad2c819b77c",
   "metadata": {},
   "outputs": [
    {
     "name": "stdout",
     "output_type": "stream",
     "text": [
      "           AVAX-USD   CRO-USD   FTM-USD   HEX-USD   KDA-USD  LUNA1-USD  \\\n",
      "AVAX-USD   0.006274  0.002192  0.002360  0.000717  0.003098   0.003252   \n",
      "CRO-USD    0.002192  0.004518  0.002561  0.000312  0.002281   0.001423   \n",
      "FTM-USD    0.002360  0.002561  0.008221  0.001151  0.002551   0.002405   \n",
      "HEX-USD    0.000717  0.000312  0.001151  0.005695  0.000697   0.001011   \n",
      "KDA-USD    0.003098  0.002281  0.002551  0.000697  0.010966   0.002626   \n",
      "LUNA1-USD  0.003252  0.001423  0.002405  0.001011  0.002626   0.006519   \n",
      "METIS-USD  0.002585  0.003659  0.004973  0.001955  0.004539   0.001448   \n",
      "SCRT-USD   0.002572  0.002438  0.003565  0.000896  0.002812   0.002480   \n",
      "\n",
      "           METIS-USD  SCRT-USD  \n",
      "AVAX-USD    0.002585  0.002572  \n",
      "CRO-USD     0.003659  0.002438  \n",
      "FTM-USD     0.004973  0.003565  \n",
      "HEX-USD     0.001955  0.000896  \n",
      "KDA-USD     0.004539  0.002812  \n",
      "LUNA1-USD   0.001448  0.002480  \n",
      "METIS-USD   0.018124  0.003689  \n",
      "SCRT-USD    0.003689  0.007262  \n"
     ]
    },
    {
     "data": {
      "text/plain": [
       "pandas.core.frame.DataFrame"
      ]
     },
     "execution_count": 39,
     "metadata": {},
     "output_type": "execute_result"
    }
   ],
   "source": [
    "cov_matrix = crypto_returns.cov()\n",
    "print(cov_matrix)\n",
    "type(cov_matrix)"
   ]
  },
  {
   "cell_type": "code",
   "execution_count": 40,
   "id": "ef8d18ae-e2fb-4d9b-ac10-944b39650f9b",
   "metadata": {},
   "outputs": [
    {
     "data": {
      "text/html": [
       "<style type=\"text/css\">\n",
       "#T_f92c4_row0_col0, #T_f92c4_row1_col1, #T_f92c4_row2_col2, #T_f92c4_row3_col3, #T_f92c4_row4_col4, #T_f92c4_row5_col5, #T_f92c4_row6_col6, #T_f92c4_row7_col7 {\n",
       "  background-color: #b40426;\n",
       "  color: #f1f1f1;\n",
       "}\n",
       "#T_f92c4_row0_col1, #T_f92c4_row2_col7 {\n",
       "  background-color: #b7cff9;\n",
       "  color: #000000;\n",
       "}\n",
       "#T_f92c4_row0_col2, #T_f92c4_row5_col2 {\n",
       "  background-color: #799cf8;\n",
       "  color: #f1f1f1;\n",
       "}\n",
       "#T_f92c4_row0_col3 {\n",
       "  background-color: #4c66d6;\n",
       "  color: #f1f1f1;\n",
       "}\n",
       "#T_f92c4_row0_col4, #T_f92c4_row1_col6, #T_f92c4_row2_col6 {\n",
       "  background-color: #a3c2fe;\n",
       "  color: #000000;\n",
       "}\n",
       "#T_f92c4_row0_col5 {\n",
       "  background-color: #cad8ef;\n",
       "  color: #000000;\n",
       "}\n",
       "#T_f92c4_row0_col6 {\n",
       "  background-color: #6282ea;\n",
       "  color: #f1f1f1;\n",
       "}\n",
       "#T_f92c4_row0_col7, #T_f92c4_row4_col1 {\n",
       "  background-color: #97b8ff;\n",
       "  color: #000000;\n",
       "}\n",
       "#T_f92c4_row1_col0 {\n",
       "  background-color: #a9c6fd;\n",
       "  color: #000000;\n",
       "}\n",
       "#T_f92c4_row1_col2 {\n",
       "  background-color: #9fbfff;\n",
       "  color: #000000;\n",
       "}\n",
       "#T_f92c4_row1_col3, #T_f92c4_row3_col0, #T_f92c4_row3_col1, #T_f92c4_row3_col2, #T_f92c4_row3_col4, #T_f92c4_row3_col7, #T_f92c4_row5_col6, #T_f92c4_row6_col5 {\n",
       "  background-color: #3b4cc0;\n",
       "  color: #f1f1f1;\n",
       "}\n",
       "#T_f92c4_row1_col4 {\n",
       "  background-color: #90b2fe;\n",
       "  color: #000000;\n",
       "}\n",
       "#T_f92c4_row1_col5 {\n",
       "  background-color: #6a8bef;\n",
       "  color: #f1f1f1;\n",
       "}\n",
       "#T_f92c4_row1_col7 {\n",
       "  background-color: #aac7fd;\n",
       "  color: #000000;\n",
       "}\n",
       "#T_f92c4_row2_col0 {\n",
       "  background-color: #88abfd;\n",
       "  color: #000000;\n",
       "}\n",
       "#T_f92c4_row2_col1 {\n",
       "  background-color: #bad0f8;\n",
       "  color: #000000;\n",
       "}\n",
       "#T_f92c4_row2_col3 {\n",
       "  background-color: #5e7de7;\n",
       "  color: #f1f1f1;\n",
       "}\n",
       "#T_f92c4_row2_col4 {\n",
       "  background-color: #7a9df8;\n",
       "  color: #f1f1f1;\n",
       "}\n",
       "#T_f92c4_row2_col5 {\n",
       "  background-color: #84a7fc;\n",
       "  color: #f1f1f1;\n",
       "}\n",
       "#T_f92c4_row3_col5 {\n",
       "  background-color: #455cce;\n",
       "  color: #f1f1f1;\n",
       "}\n",
       "#T_f92c4_row3_col6 {\n",
       "  background-color: #4f69d9;\n",
       "  color: #f1f1f1;\n",
       "}\n",
       "#T_f92c4_row4_col0, #T_f92c4_row6_col2 {\n",
       "  background-color: #9abbff;\n",
       "  color: #000000;\n",
       "}\n",
       "#T_f92c4_row4_col2 {\n",
       "  background-color: #5f7fe8;\n",
       "  color: #f1f1f1;\n",
       "}\n",
       "#T_f92c4_row4_col3 {\n",
       "  background-color: #4358cb;\n",
       "  color: #f1f1f1;\n",
       "}\n",
       "#T_f92c4_row4_col5, #T_f92c4_row4_col7 {\n",
       "  background-color: #7da0f9;\n",
       "  color: #f1f1f1;\n",
       "}\n",
       "#T_f92c4_row4_col6, #T_f92c4_row7_col6 {\n",
       "  background-color: #81a4fb;\n",
       "  color: #f1f1f1;\n",
       "}\n",
       "#T_f92c4_row5_col0 {\n",
       "  background-color: #cdd9ec;\n",
       "  color: #000000;\n",
       "}\n",
       "#T_f92c4_row5_col1, #T_f92c4_row6_col7 {\n",
       "  background-color: #80a3fa;\n",
       "  color: #f1f1f1;\n",
       "}\n",
       "#T_f92c4_row5_col3 {\n",
       "  background-color: #5d7ce6;\n",
       "  color: #f1f1f1;\n",
       "}\n",
       "#T_f92c4_row5_col4 {\n",
       "  background-color: #8badfd;\n",
       "  color: #000000;\n",
       "}\n",
       "#T_f92c4_row5_col7, #T_f92c4_row6_col4 {\n",
       "  background-color: #8fb1fe;\n",
       "  color: #000000;\n",
       "}\n",
       "#T_f92c4_row6_col0, #T_f92c4_row6_col3 {\n",
       "  background-color: #6687ed;\n",
       "  color: #f1f1f1;\n",
       "}\n",
       "#T_f92c4_row6_col1 {\n",
       "  background-color: #b5cdfa;\n",
       "  color: #000000;\n",
       "}\n",
       "#T_f92c4_row7_col0 {\n",
       "  background-color: #9dbdff;\n",
       "  color: #000000;\n",
       "}\n",
       "#T_f92c4_row7_col1 {\n",
       "  background-color: #bcd2f7;\n",
       "  color: #000000;\n",
       "}\n",
       "#T_f92c4_row7_col2 {\n",
       "  background-color: #b1cbfc;\n",
       "  color: #000000;\n",
       "}\n",
       "#T_f92c4_row7_col3 {\n",
       "  background-color: #5470de;\n",
       "  color: #f1f1f1;\n",
       "}\n",
       "#T_f92c4_row7_col4 {\n",
       "  background-color: #8caffe;\n",
       "  color: #000000;\n",
       "}\n",
       "#T_f92c4_row7_col5 {\n",
       "  background-color: #92b4fe;\n",
       "  color: #000000;\n",
       "}\n",
       "</style>\n",
       "<table id=\"T_f92c4_\">\n",
       "  <thead>\n",
       "    <tr>\n",
       "      <th class=\"blank level0\" >&nbsp;</th>\n",
       "      <th class=\"col_heading level0 col0\" >AVAX-USD</th>\n",
       "      <th class=\"col_heading level0 col1\" >CRO-USD</th>\n",
       "      <th class=\"col_heading level0 col2\" >FTM-USD</th>\n",
       "      <th class=\"col_heading level0 col3\" >HEX-USD</th>\n",
       "      <th class=\"col_heading level0 col4\" >KDA-USD</th>\n",
       "      <th class=\"col_heading level0 col5\" >LUNA1-USD</th>\n",
       "      <th class=\"col_heading level0 col6\" >METIS-USD</th>\n",
       "      <th class=\"col_heading level0 col7\" >SCRT-USD</th>\n",
       "    </tr>\n",
       "  </thead>\n",
       "  <tbody>\n",
       "    <tr>\n",
       "      <th id=\"T_f92c4_level0_row0\" class=\"row_heading level0 row0\" >AVAX-USD</th>\n",
       "      <td id=\"T_f92c4_row0_col0\" class=\"data row0 col0\" >1.000000</td>\n",
       "      <td id=\"T_f92c4_row0_col1\" class=\"data row0 col1\" >0.411626</td>\n",
       "      <td id=\"T_f92c4_row0_col2\" class=\"data row0 col2\" >0.328669</td>\n",
       "      <td id=\"T_f92c4_row0_col3\" class=\"data row0 col3\" >0.119954</td>\n",
       "      <td id=\"T_f92c4_row0_col4\" class=\"data row0 col4\" >0.373474</td>\n",
       "      <td id=\"T_f92c4_row0_col5\" class=\"data row0 col5\" >0.508478</td>\n",
       "      <td id=\"T_f92c4_row0_col6\" class=\"data row0 col6\" >0.242388</td>\n",
       "      <td id=\"T_f92c4_row0_col7\" class=\"data row0 col7\" >0.381123</td>\n",
       "    </tr>\n",
       "    <tr>\n",
       "      <th id=\"T_f92c4_level0_row1\" class=\"row_heading level0 row1\" >CRO-USD</th>\n",
       "      <td id=\"T_f92c4_row1_col0\" class=\"data row1 col0\" >0.411626</td>\n",
       "      <td id=\"T_f92c4_row1_col1\" class=\"data row1 col1\" >1.000000</td>\n",
       "      <td id=\"T_f92c4_row1_col2\" class=\"data row1 col2\" >0.420163</td>\n",
       "      <td id=\"T_f92c4_row1_col3\" class=\"data row1 col3\" >0.061453</td>\n",
       "      <td id=\"T_f92c4_row1_col4\" class=\"data row1 col4\" >0.324022</td>\n",
       "      <td id=\"T_f92c4_row1_col5\" class=\"data row1 col5\" >0.262183</td>\n",
       "      <td id=\"T_f92c4_row1_col6\" class=\"data row1 col6\" >0.404320</td>\n",
       "      <td id=\"T_f92c4_row1_col7\" class=\"data row1 col7\" >0.425593</td>\n",
       "    </tr>\n",
       "    <tr>\n",
       "      <th id=\"T_f92c4_level0_row2\" class=\"row_heading level0 row2\" >FTM-USD</th>\n",
       "      <td id=\"T_f92c4_row2_col0\" class=\"data row2 col0\" >0.328669</td>\n",
       "      <td id=\"T_f92c4_row2_col1\" class=\"data row2 col1\" >0.420163</td>\n",
       "      <td id=\"T_f92c4_row2_col2\" class=\"data row2 col2\" >1.000000</td>\n",
       "      <td id=\"T_f92c4_row2_col3\" class=\"data row2 col3\" >0.168141</td>\n",
       "      <td id=\"T_f92c4_row2_col4\" class=\"data row2 col4\" >0.268697</td>\n",
       "      <td id=\"T_f92c4_row2_col5\" class=\"data row2 col5\" >0.328465</td>\n",
       "      <td id=\"T_f92c4_row2_col6\" class=\"data row2 col6\" >0.407409</td>\n",
       "      <td id=\"T_f92c4_row2_col7\" class=\"data row2 col7\" >0.461402</td>\n",
       "    </tr>\n",
       "    <tr>\n",
       "      <th id=\"T_f92c4_level0_row3\" class=\"row_heading level0 row3\" >HEX-USD</th>\n",
       "      <td id=\"T_f92c4_row3_col0\" class=\"data row3 col0\" >0.119954</td>\n",
       "      <td id=\"T_f92c4_row3_col1\" class=\"data row3 col1\" >0.061453</td>\n",
       "      <td id=\"T_f92c4_row3_col2\" class=\"data row3 col2\" >0.168141</td>\n",
       "      <td id=\"T_f92c4_row3_col3\" class=\"data row3 col3\" >1.000000</td>\n",
       "      <td id=\"T_f92c4_row3_col4\" class=\"data row3 col4\" >0.088135</td>\n",
       "      <td id=\"T_f92c4_row3_col5\" class=\"data row3 col5\" >0.165938</td>\n",
       "      <td id=\"T_f92c4_row3_col6\" class=\"data row3 col6\" >0.192374</td>\n",
       "      <td id=\"T_f92c4_row3_col7\" class=\"data row3 col7\" >0.139329</td>\n",
       "    </tr>\n",
       "    <tr>\n",
       "      <th id=\"T_f92c4_level0_row4\" class=\"row_heading level0 row4\" >KDA-USD</th>\n",
       "      <td id=\"T_f92c4_row4_col0\" class=\"data row4 col0\" >0.373474</td>\n",
       "      <td id=\"T_f92c4_row4_col1\" class=\"data row4 col1\" >0.324022</td>\n",
       "      <td id=\"T_f92c4_row4_col2\" class=\"data row4 col2\" >0.268697</td>\n",
       "      <td id=\"T_f92c4_row4_col3\" class=\"data row4 col3\" >0.088135</td>\n",
       "      <td id=\"T_f92c4_row4_col4\" class=\"data row4 col4\" >1.000000</td>\n",
       "      <td id=\"T_f92c4_row4_col5\" class=\"data row4 col5\" >0.310620</td>\n",
       "      <td id=\"T_f92c4_row4_col6\" class=\"data row4 col6\" >0.321971</td>\n",
       "      <td id=\"T_f92c4_row4_col7\" class=\"data row4 col7\" >0.315170</td>\n",
       "    </tr>\n",
       "    <tr>\n",
       "      <th id=\"T_f92c4_level0_row5\" class=\"row_heading level0 row5\" >LUNA1-USD</th>\n",
       "      <td id=\"T_f92c4_row5_col0\" class=\"data row5 col0\" >0.508478</td>\n",
       "      <td id=\"T_f92c4_row5_col1\" class=\"data row5 col1\" >0.262183</td>\n",
       "      <td id=\"T_f92c4_row5_col2\" class=\"data row5 col2\" >0.328465</td>\n",
       "      <td id=\"T_f92c4_row5_col3\" class=\"data row5 col3\" >0.165938</td>\n",
       "      <td id=\"T_f92c4_row5_col4\" class=\"data row5 col4\" >0.310620</td>\n",
       "      <td id=\"T_f92c4_row5_col5\" class=\"data row5 col5\" >1.000000</td>\n",
       "      <td id=\"T_f92c4_row5_col6\" class=\"data row5 col6\" >0.133182</td>\n",
       "      <td id=\"T_f92c4_row5_col7\" class=\"data row5 col7\" >0.360435</td>\n",
       "    </tr>\n",
       "    <tr>\n",
       "      <th id=\"T_f92c4_level0_row6\" class=\"row_heading level0 row6\" >METIS-USD</th>\n",
       "      <td id=\"T_f92c4_row6_col0\" class=\"data row6 col0\" >0.242388</td>\n",
       "      <td id=\"T_f92c4_row6_col1\" class=\"data row6 col1\" >0.404320</td>\n",
       "      <td id=\"T_f92c4_row6_col2\" class=\"data row6 col2\" >0.407409</td>\n",
       "      <td id=\"T_f92c4_row6_col3\" class=\"data row6 col3\" >0.192374</td>\n",
       "      <td id=\"T_f92c4_row6_col4\" class=\"data row6 col4\" >0.321971</td>\n",
       "      <td id=\"T_f92c4_row6_col5\" class=\"data row6 col5\" >0.133182</td>\n",
       "      <td id=\"T_f92c4_row6_col6\" class=\"data row6 col6\" >1.000000</td>\n",
       "      <td id=\"T_f92c4_row6_col7\" class=\"data row6 col7\" >0.321565</td>\n",
       "    </tr>\n",
       "    <tr>\n",
       "      <th id=\"T_f92c4_level0_row7\" class=\"row_heading level0 row7\" >SCRT-USD</th>\n",
       "      <td id=\"T_f92c4_row7_col0\" class=\"data row7 col0\" >0.381123</td>\n",
       "      <td id=\"T_f92c4_row7_col1\" class=\"data row7 col1\" >0.425593</td>\n",
       "      <td id=\"T_f92c4_row7_col2\" class=\"data row7 col2\" >0.461402</td>\n",
       "      <td id=\"T_f92c4_row7_col3\" class=\"data row7 col3\" >0.139329</td>\n",
       "      <td id=\"T_f92c4_row7_col4\" class=\"data row7 col4\" >0.315170</td>\n",
       "      <td id=\"T_f92c4_row7_col5\" class=\"data row7 col5\" >0.360435</td>\n",
       "      <td id=\"T_f92c4_row7_col6\" class=\"data row7 col6\" >0.321565</td>\n",
       "      <td id=\"T_f92c4_row7_col7\" class=\"data row7 col7\" >1.000000</td>\n",
       "    </tr>\n",
       "  </tbody>\n",
       "</table>\n"
      ],
      "text/plain": [
       "<pandas.io.formats.style.Styler at 0x218b1ba7130>"
      ]
     },
     "execution_count": 40,
     "metadata": {},
     "output_type": "execute_result"
    }
   ],
   "source": [
    "corr = crypto_returns.corr()\n",
    "corr.style.background_gradient(cmap='coolwarm')\n",
    "#plotting.plot_covariance(cov_matrix2, plot_correlation=True);"
   ]
  },
  {
   "attachments": {
    "6b4b264f-0fc7-49ad-8a51-c1c1e9a9d258.png": {
     "image/png": "[encoded data removed]"
    }
   },
   "cell_type": "markdown",
   "id": "948de5a9-fe7f-4796-bc9a-fd4087313c93",
   "metadata": {},
   "source": [
    "![image.png](attachment:6b4b264f-0fc7-49ad-8a51-c1c1e9a9d258.png)!"
   ]
  },
  {
   "cell_type": "markdown",
   "id": "6ff31811-150b-4840-b049-1edde47d82f4",
   "metadata": {},
   "source": [
    "### Mean-Variance Efficient Portfolio"
   ]
  },
  {
   "cell_type": "markdown",
   "id": "0fb43fea-f129-4008-86b6-5ecbf9db7abe",
   "metadata": {},
   "source": [
    "Using Pyportfolio package:"
   ]
  },
  {
   "cell_type": "code",
   "execution_count": 41,
   "id": "6f5725a9-cce9-4b43-97ae-e1f335fcb988",
   "metadata": {},
   "outputs": [
    {
     "data": {
      "text/plain": [
       "OrderedDict([('AVAX-USD', 0.0),\n",
       "             ('CRO-USD', 0.0),\n",
       "             ('FTM-USD', 0.0),\n",
       "             ('HEX-USD', 0.0),\n",
       "             ('KDA-USD', 0.5615202438814821),\n",
       "             ('LUNA1-USD', 0.0),\n",
       "             ('METIS-USD', 0.4384797561185178),\n",
       "             ('SCRT-USD', 0.0)])"
      ]
     },
     "execution_count": 41,
     "metadata": {},
     "output_type": "execute_result"
    }
   ],
   "source": [
    "ef = EfficientFrontier(mu2, cov_matrix2) #return the Effiecient Frontier\n",
    "ef.max_sharpe() #return Max Sharpe ratio"
   ]
  },
  {
   "cell_type": "markdown",
   "id": "051c0db6-253b-4d61-8670-19d674b17980",
   "metadata": {},
   "source": [
    "Returning the portfolio performance"
   ]
  },
  {
   "cell_type": "code",
   "execution_count": 42,
   "id": "cf277e10-5654-4fbd-9be0-8217062e9f7d",
   "metadata": {},
   "outputs": [
    {
     "name": "stdout",
     "output_type": "stream",
     "text": [
      "Expected annual return: 3544.3%\n",
      "Annual volatility: 152.1%\n",
      "Sharpe Ratio: 23.29\n"
     ]
    },
    {
     "data": {
      "text/plain": [
       "(35.44330418932006, 1.520762464618684, 23.293121058325237)"
      ]
     },
     "execution_count": 42,
     "metadata": {},
     "output_type": "execute_result"
    }
   ],
   "source": [
    "ef.portfolio_performance(verbose = True)"
   ]
  },
  {
   "cell_type": "code",
   "execution_count": 43,
   "id": "a79f9b01-97d0-4dd8-a178-4f74be04956b",
   "metadata": {},
   "outputs": [
    {
     "data": {
      "application/vnd.plotly.v1+json": {
       "config": {
        "plotlyServerURL": "https://plot.ly"
       },
       "data": [
        {
         "coloraxis": "coloraxis",
         "hovertemplate": "x: %{x}<br>y: %{y}<br>color: %{z}<extra></extra>",
         "name": "0",
         "type": "heatmap",
         "x": [
          "AVAX-USD",
          "CRO-USD",
          "FTM-USD",
          "HEX-USD",
          "KDA-USD",
          "LUNA1-USD",
          "METIS-USD",
          "SCRT-USD"
         ],
         "xaxis": "x",
         "y": [
          "AVAX-USD",
          "CRO-USD",
          "FTM-USD",
          "HEX-USD",
          "KDA-USD",
          "LUNA1-USD",
          "METIS-USD",
          "SCRT-USD"
         ],
         "yaxis": "y",
         "z": [
          [
           1,
           0.4116264948652921,
           0.32866855253015326,
           0.11995399248567254,
           0.37347387638211055,
           0.5084784146307922,
           0.24238780307457158,
           0.38112326272738933
          ],
          [
           0.4116264948652921,
           1,
           0.42016271968669683,
           0.061452858659688206,
           0.3240219213431377,
           0.2621830652504508,
           0.40431973362165735,
           0.4255926913966409
          ],
          [
           0.32866855253015326,
           0.42016271968669683,
           1,
           0.16814102442476503,
           0.268697392241475,
           0.3284653480192534,
           0.4074086525549494,
           0.46140221555546135
          ],
          [
           0.11995399248567254,
           0.061452858659688206,
           0.16814102442476503,
           1,
           0.08813516934961449,
           0.16593758588471513,
           0.19237432317055111,
           0.13932873852135894
          ],
          [
           0.37347387638211055,
           0.3240219213431377,
           0.268697392241475,
           0.08813516934961449,
           1,
           0.310619686496941,
           0.32197071543644423,
           0.315170078711065
          ],
          [
           0.5084784146307922,
           0.2621830652504508,
           0.3284653480192534,
           0.16593758588471513,
           0.310619686496941,
           1,
           0.13318175951382144,
           0.360435154835679
          ],
          [
           0.24238780307457158,
           0.40431973362165735,
           0.4074086525549494,
           0.19237432317055111,
           0.32197071543644423,
           0.13318175951382144,
           1,
           0.3215647979284161
          ],
          [
           0.38112326272738933,
           0.4255926913966409,
           0.46140221555546135,
           0.13932873852135894,
           0.315170078711065,
           0.360435154835679,
           0.3215647979284161,
           1
          ]
         ]
        }
       ],
       "layout": {
        "autosize": true,
        "coloraxis": {
         "colorscale": [
          [
           0,
           "#0d0887"
          ],
          [
           0.1111111111111111,
           "#46039f"
          ],
          [
           0.2222222222222222,
           "#7201a8"
          ],
          [
           0.3333333333333333,
           "#9c179e"
          ],
          [
           0.4444444444444444,
           "#bd3786"
          ],
          [
           0.5555555555555556,
           "#d8576b"
          ],
          [
           0.6666666666666666,
           "#ed7953"
          ],
          [
           0.7777777777777778,
           "#fb9f3a"
          ],
          [
           0.8888888888888888,
           "#fdca26"
          ],
          [
           1,
           "#f0f921"
          ]
         ]
        },
        "margin": {
         "t": 60
        },
        "template": {
         "data": {
          "bar": [
           {
            "error_x": {
             "color": "#2a3f5f"
            },
            "error_y": {
             "color": "#2a3f5f"
            },
            "marker": {
             "line": {
              "color": "#E5ECF6",
              "width": 0.5
             },
             "pattern": {
              "fillmode": "overlay",
              "size": 10,
              "solidity": 0.2
             }
            },
            "type": "bar"
           }
          ],
          "barpolar": [
           {
            "marker": {
             "line": {
              "color": "#E5ECF6",
              "width": 0.5
             },
             "pattern": {
              "fillmode": "overlay",
              "size": 10,
              "solidity": 0.2
             }
            },
            "type": "barpolar"
           }
          ],
          "carpet": [
           {
            "aaxis": {
             "endlinecolor": "#2a3f5f",
             "gridcolor": "white",
             "linecolor": "white",
             "minorgridcolor": "white",
             "startlinecolor": "#2a3f5f"
            },
            "baxis": {
             "endlinecolor": "#2a3f5f",
             "gridcolor": "white",
             "linecolor": "white",
             "minorgridcolor": "white",
             "startlinecolor": "#2a3f5f"
            },
            "type": "carpet"
           }
          ],
          "choropleth": [
           {
            "colorbar": {
             "outlinewidth": 0,
             "ticks": ""
            },
            "type": "choropleth"
           }
          ],
          "contour": [
           {
            "colorbar": {
             "outlinewidth": 0,
             "ticks": ""
            },
            "colorscale": [
             [
              0,
              "#0d0887"
             ],
             [
              0.1111111111111111,
              "#46039f"
             ],
             [
              0.2222222222222222,
              "#7201a8"
             ],
             [
              0.3333333333333333,
              "#9c179e"
             ],
             [
              0.4444444444444444,
              "#bd3786"
             ],
             [
              0.5555555555555556,
              "#d8576b"
             ],
             [
              0.6666666666666666,
              "#ed7953"
             ],
             [
              0.7777777777777778,
              "#fb9f3a"
             ],
             [
              0.8888888888888888,
              "#fdca26"
             ],
             [
              1,
              "#f0f921"
             ]
            ],
            "type": "contour"
           }
          ],
          "contourcarpet": [
           {
            "colorbar": {
             "outlinewidth": 0,
             "ticks": ""
            },
            "type": "contourcarpet"
           }
          ],
          "heatmap": [
           {
            "colorbar": {
             "outlinewidth": 0,
             "ticks": ""
            },
            "colorscale": [
             [
              0,
              "#0d0887"
             ],
             [
              0.1111111111111111,
              "#46039f"
             ],
             [
              0.2222222222222222,
              "#7201a8"
             ],
             [
              0.3333333333333333,
              "#9c179e"
             ],
             [
              0.4444444444444444,
              "#bd3786"
             ],
             [
              0.5555555555555556,
              "#d8576b"
             ],
             [
              0.6666666666666666,
              "#ed7953"
             ],
             [
              0.7777777777777778,
              "#fb9f3a"
             ],
             [
              0.8888888888888888,
              "#fdca26"
             ],
             [
              1,
              "#f0f921"
             ]
            ],
            "type": "heatmap"
           }
          ],
          "heatmapgl": [
           {
            "colorbar": {
             "outlinewidth": 0,
             "ticks": ""
            },
            "colorscale": [
             [
              0,
              "#0d0887"
             ],
             [
              0.1111111111111111,
              "#46039f"
             ],
             [
              0.2222222222222222,
              "#7201a8"
             ],
             [
              0.3333333333333333,
              "#9c179e"
             ],
             [
              0.4444444444444444,
              "#bd3786"
             ],
             [
              0.5555555555555556,
              "#d8576b"
             ],
             [
              0.6666666666666666,
              "#ed7953"
             ],
             [
              0.7777777777777778,
              "#fb9f3a"
             ],
             [
              0.8888888888888888,
              "#fdca26"
             ],
             [
              1,
              "#f0f921"
             ]
            ],
            "type": "heatmapgl"
           }
          ],
          "histogram": [
           {
            "marker": {
             "pattern": {
              "fillmode": "overlay",
              "size": 10,
              "solidity": 0.2
             }
            },
            "type": "histogram"
           }
          ],
          "histogram2d": [
           {
            "colorbar": {
             "outlinewidth": 0,
             "ticks": ""
            },
            "colorscale": [
             [
              0,
              "#0d0887"
             ],
             [
              0.1111111111111111,
              "#46039f"
             ],
             [
              0.2222222222222222,
              "#7201a8"
             ],
             [
              0.3333333333333333,
              "#9c179e"
             ],
             [
              0.4444444444444444,
              "#bd3786"
             ],
             [
              0.5555555555555556,
              "#d8576b"
             ],
             [
              0.6666666666666666,
              "#ed7953"
             ],
             [
              0.7777777777777778,
              "#fb9f3a"
             ],
             [
              0.8888888888888888,
              "#fdca26"
             ],
             [
              1,
              "#f0f921"
             ]
            ],
            "type": "histogram2d"
           }
          ],
          "histogram2dcontour": [
           {
            "colorbar": {
             "outlinewidth": 0,
             "ticks": ""
            },
            "colorscale": [
             [
              0,
              "#0d0887"
             ],
             [
              0.1111111111111111,
              "#46039f"
             ],
             [
              0.2222222222222222,
              "#7201a8"
             ],
             [
              0.3333333333333333,
              "#9c179e"
             ],
             [
              0.4444444444444444,
              "#bd3786"
             ],
             [
              0.5555555555555556,
              "#d8576b"
             ],
             [
              0.6666666666666666,
              "#ed7953"
             ],
             [
              0.7777777777777778,
              "#fb9f3a"
             ],
             [
              0.8888888888888888,
              "#fdca26"
             ],
             [
              1,
              "#f0f921"
             ]
            ],
            "type": "histogram2dcontour"
           }
          ],
          "mesh3d": [
           {
            "colorbar": {
             "outlinewidth": 0,
             "ticks": ""
            },
            "type": "mesh3d"
           }
          ],
          "parcoords": [
           {
            "line": {
             "colorbar": {
              "outlinewidth": 0,
              "ticks": ""
             }
            },
            "type": "parcoords"
           }
          ],
          "pie": [
           {
            "automargin": true,
            "type": "pie"
           }
          ],
          "scatter": [
           {
            "marker": {
             "colorbar": {
              "outlinewidth": 0,
              "ticks": ""
             }
            },
            "type": "scatter"
           }
          ],
          "scatter3d": [
           {
            "line": {
             "colorbar": {
              "outlinewidth": 0,
              "ticks": ""
             }
            },
            "marker": {
             "colorbar": {
              "outlinewidth": 0,
              "ticks": ""
             }
            },
            "type": "scatter3d"
           }
          ],
          "scattercarpet": [
           {
            "marker": {
             "colorbar": {
              "outlinewidth": 0,
              "ticks": ""
             }
            },
            "type": "scattercarpet"
           }
          ],
          "scattergeo": [
           {
            "marker": {
             "colorbar": {
              "outlinewidth": 0,
              "ticks": ""
             }
            },
            "type": "scattergeo"
           }
          ],
          "scattergl": [
           {
            "marker": {
             "colorbar": {
              "outlinewidth": 0,
              "ticks": ""
             }
            },
            "type": "scattergl"
           }
          ],
          "scattermapbox": [
           {
            "marker": {
             "colorbar": {
              "outlinewidth": 0,
              "ticks": ""
             }
            },
            "type": "scattermapbox"
           }
          ],
          "scatterpolar": [
           {
            "marker": {
             "colorbar": {
              "outlinewidth": 0,
              "ticks": ""
             }
            },
            "type": "scatterpolar"
           }
          ],
          "scatterpolargl": [
           {
            "marker": {
             "colorbar": {
              "outlinewidth": 0,
              "ticks": ""
             }
            },
            "type": "scatterpolargl"
           }
          ],
          "scatterternary": [
           {
            "marker": {
             "colorbar": {
              "outlinewidth": 0,
              "ticks": ""
             }
            },
            "type": "scatterternary"
           }
          ],
          "surface": [
           {
            "colorbar": {
             "outlinewidth": 0,
             "ticks": ""
            },
            "colorscale": [
             [
              0,
              "#0d0887"
             ],
             [
              0.1111111111111111,
              "#46039f"
             ],
             [
              0.2222222222222222,
              "#7201a8"
             ],
             [
              0.3333333333333333,
              "#9c179e"
             ],
             [
              0.4444444444444444,
              "#bd3786"
             ],
             [
              0.5555555555555556,
              "#d8576b"
             ],
             [
              0.6666666666666666,
              "#ed7953"
             ],
             [
              0.7777777777777778,
              "#fb9f3a"
             ],
             [
              0.8888888888888888,
              "#fdca26"
             ],
             [
              1,
              "#f0f921"
             ]
            ],
            "type": "surface"
           }
          ],
          "table": [
           {
            "cells": {
             "fill": {
              "color": "#EBF0F8"
             },
             "line": {
              "color": "white"
             }
            },
            "header": {
             "fill": {
              "color": "#C8D4E3"
             },
             "line": {
              "color": "white"
             }
            },
            "type": "table"
           }
          ]
         },
         "layout": {
          "annotationdefaults": {
           "arrowcolor": "#2a3f5f",
           "arrowhead": 0,
           "arrowwidth": 1
          },
          "autotypenumbers": "strict",
          "coloraxis": {
           "colorbar": {
            "outlinewidth": 0,
            "ticks": ""
           }
          },
          "colorscale": {
           "diverging": [
            [
             0,
             "#8e0152"
            ],
            [
             0.1,
             "#c51b7d"
            ],
            [
             0.2,
             "#de77ae"
            ],
            [
             0.3,
             "#f1b6da"
            ],
            [
             0.4,
             "#fde0ef"
            ],
            [
             0.5,
             "#f7f7f7"
            ],
            [
             0.6,
             "#e6f5d0"
            ],
            [
             0.7,
             "#b8e186"
            ],
            [
             0.8,
             "#7fbc41"
            ],
            [
             0.9,
             "#4d9221"
            ],
            [
             1,
             "#276419"
            ]
           ],
           "sequential": [
            [
             0,
             "#0d0887"
            ],
            [
             0.1111111111111111,
             "#46039f"
            ],
            [
             0.2222222222222222,
             "#7201a8"
            ],
            [
             0.3333333333333333,
             "#9c179e"
            ],
            [
             0.4444444444444444,
             "#bd3786"
            ],
            [
             0.5555555555555556,
             "#d8576b"
            ],
            [
             0.6666666666666666,
             "#ed7953"
            ],
            [
             0.7777777777777778,
             "#fb9f3a"
            ],
            [
             0.8888888888888888,
             "#fdca26"
            ],
            [
             1,
             "#f0f921"
            ]
           ],
           "sequentialminus": [
            [
             0,
             "#0d0887"
            ],
            [
             0.1111111111111111,
             "#46039f"
            ],
            [
             0.2222222222222222,
             "#7201a8"
            ],
            [
             0.3333333333333333,
             "#9c179e"
            ],
            [
             0.4444444444444444,
             "#bd3786"
            ],
            [
             0.5555555555555556,
             "#d8576b"
            ],
            [
             0.6666666666666666,
             "#ed7953"
            ],
            [
             0.7777777777777778,
             "#fb9f3a"
            ],
            [
             0.8888888888888888,
             "#fdca26"
            ],
            [
             1,
             "#f0f921"
            ]
           ]
          },
          "colorway": [
           "#636efa",
           "#EF553B",
           "#00cc96",
           "#ab63fa",
           "#FFA15A",
           "#19d3f3",
           "#FF6692",
           "#B6E880",
           "#FF97FF",
           "#FECB52"
          ],
          "font": {
           "color": "#2a3f5f"
          },
          "geo": {
           "bgcolor": "white",
           "lakecolor": "white",
           "landcolor": "#E5ECF6",
           "showlakes": true,
           "showland": true,
           "subunitcolor": "white"
          },
          "hoverlabel": {
           "align": "left"
          },
          "hovermode": "closest",
          "mapbox": {
           "style": "light"
          },
          "paper_bgcolor": "white",
          "plot_bgcolor": "#E5ECF6",
          "polar": {
           "angularaxis": {
            "gridcolor": "white",
            "linecolor": "white",
            "ticks": ""
           },
           "bgcolor": "#E5ECF6",
           "radialaxis": {
            "gridcolor": "white",
            "linecolor": "white",
            "ticks": ""
           }
          },
          "scene": {
           "xaxis": {
            "backgroundcolor": "#E5ECF6",
            "gridcolor": "white",
            "gridwidth": 2,
            "linecolor": "white",
            "showbackground": true,
            "ticks": "",
            "zerolinecolor": "white"
           },
           "yaxis": {
            "backgroundcolor": "#E5ECF6",
            "gridcolor": "white",
            "gridwidth": 2,
            "linecolor": "white",
            "showbackground": true,
            "ticks": "",
            "zerolinecolor": "white"
           },
           "zaxis": {
            "backgroundcolor": "#E5ECF6",
            "gridcolor": "white",
            "gridwidth": 2,
            "linecolor": "white",
            "showbackground": true,
            "ticks": "",
            "zerolinecolor": "white"
           }
          },
          "shapedefaults": {
           "line": {
            "color": "#2a3f5f"
           }
          },
          "ternary": {
           "aaxis": {
            "gridcolor": "white",
            "linecolor": "white",
            "ticks": ""
           },
           "baxis": {
            "gridcolor": "white",
            "linecolor": "white",
            "ticks": ""
           },
           "bgcolor": "#E5ECF6",
           "caxis": {
            "gridcolor": "white",
            "linecolor": "white",
            "ticks": ""
           }
          },
          "title": {
           "x": 0.05
          },
          "xaxis": {
           "automargin": true,
           "gridcolor": "white",
           "linecolor": "white",
           "ticks": "",
           "title": {
            "standoff": 15
           },
           "zerolinecolor": "white",
           "zerolinewidth": 2
          },
          "yaxis": {
           "automargin": true,
           "gridcolor": "white",
           "linecolor": "white",
           "ticks": "",
           "title": {
            "standoff": 15
           },
           "zerolinecolor": "white",
           "zerolinewidth": 2
          }
         }
        },
        "xaxis": {
         "anchor": "y",
         "autorange": true,
         "constrain": "domain",
         "domain": [
          0.40944540727902945,
          0.5905545927209706
         ],
         "range": [
          -0.5,
          7.5
         ],
         "scaleanchor": "y",
         "type": "category"
        },
        "yaxis": {
         "anchor": "x",
         "autorange": true,
         "constrain": "domain",
         "domain": [
          0,
          1
         ],
         "range": [
          7.5,
          -0.5
         ],
         "type": "category"
        }
       }
      },
      "image/png": "[encoded data removed]",
      "text/html": [
       "<div>                            <div id=\"55ef4730-60c2-454c-b5a1-b331fee2e60e\" class=\"plotly-graph-div\" style=\"height:525px; width:100%;\"></div>            <script type=\"text/javascript\">                require([\"plotly\"], function(Plotly) {                    window.PLOTLYENV=window.PLOTLYENV || {};                                    if (document.getElementById(\"55ef4730-60c2-454c-b5a1-b331fee2e60e\")) {                    Plotly.newPlot(                        \"55ef4730-60c2-454c-b5a1-b331fee2e60e\",                        [{\"coloraxis\":\"coloraxis\",\"name\":\"0\",\"x\":[\"AVAX-USD\",\"CRO-USD\",\"FTM-USD\",\"HEX-USD\",\"KDA-USD\",\"LUNA1-USD\",\"METIS-USD\",\"SCRT-USD\"],\"y\":[\"AVAX-USD\",\"CRO-USD\",\"FTM-USD\",\"HEX-USD\",\"KDA-USD\",\"LUNA1-USD\",\"METIS-USD\",\"SCRT-USD\"],\"z\":[[1.0,0.4116264948652921,0.32866855253015326,0.11995399248567254,0.37347387638211055,0.5084784146307922,0.24238780307457158,0.38112326272738933],[0.4116264948652921,1.0,0.42016271968669683,0.061452858659688206,0.3240219213431377,0.2621830652504508,0.40431973362165735,0.4255926913966409],[0.32866855253015326,0.42016271968669683,1.0,0.16814102442476503,0.268697392241475,0.3284653480192534,0.4074086525549494,0.46140221555546135],[0.11995399248567254,0.061452858659688206,0.16814102442476503,1.0,0.08813516934961449,0.16593758588471513,0.19237432317055111,0.13932873852135894],[0.37347387638211055,0.3240219213431377,0.268697392241475,0.08813516934961449,1.0,0.310619686496941,0.32197071543644423,0.315170078711065],[0.5084784146307922,0.2621830652504508,0.3284653480192534,0.16593758588471513,0.310619686496941,1.0,0.13318175951382144,0.360435154835679],[0.24238780307457158,0.40431973362165735,0.4074086525549494,0.19237432317055111,0.32197071543644423,0.13318175951382144,1.0,0.3215647979284161],[0.38112326272738933,0.4255926913966409,0.46140221555546135,0.13932873852135894,0.315170078711065,0.360435154835679,0.3215647979284161,1.0]],\"type\":\"heatmap\",\"xaxis\":\"x\",\"yaxis\":\"y\",\"hovertemplate\":\"x: %{x}<br>y: %{y}<br>color: %{z}<extra></extra>\"}],                        {\"template\":{\"data\":{\"bar\":[{\"error_x\":{\"color\":\"#2a3f5f\"},\"error_y\":{\"color\":\"#2a3f5f\"},\"marker\":{\"line\":{\"color\":\"#E5ECF6\",\"width\":0.5},\"pattern\":{\"fillmode\":\"overlay\",\"size\":10,\"solidity\":0.2}},\"type\":\"bar\"}],\"barpolar\":[{\"marker\":{\"line\":{\"color\":\"#E5ECF6\",\"width\":0.5},\"pattern\":{\"fillmode\":\"overlay\",\"size\":10,\"solidity\":0.2}},\"type\":\"barpolar\"}],\"carpet\":[{\"aaxis\":{\"endlinecolor\":\"#2a3f5f\",\"gridcolor\":\"white\",\"linecolor\":\"white\",\"minorgridcolor\":\"white\",\"startlinecolor\":\"#2a3f5f\"},\"baxis\":{\"endlinecolor\":\"#2a3f5f\",\"gridcolor\":\"white\",\"linecolor\":\"white\",\"minorgridcolor\":\"white\",\"startlinecolor\":\"#2a3f5f\"},\"type\":\"carpet\"}],\"choropleth\":[{\"colorbar\":{\"outlinewidth\":0,\"ticks\":\"\"},\"type\":\"choropleth\"}],\"contour\":[{\"colorbar\":{\"outlinewidth\":0,\"ticks\":\"\"},\"colorscale\":[[0.0,\"#0d0887\"],[0.1111111111111111,\"#46039f\"],[0.2222222222222222,\"#7201a8\"],[0.3333333333333333,\"#9c179e\"],[0.4444444444444444,\"#bd3786\"],[0.5555555555555556,\"#d8576b\"],[0.6666666666666666,\"#ed7953\"],[0.7777777777777778,\"#fb9f3a\"],[0.8888888888888888,\"#fdca26\"],[1.0,\"#f0f921\"]],\"type\":\"contour\"}],\"contourcarpet\":[{\"colorbar\":{\"outlinewidth\":0,\"ticks\":\"\"},\"type\":\"contourcarpet\"}],\"heatmap\":[{\"colorbar\":{\"outlinewidth\":0,\"ticks\":\"\"},\"colorscale\":[[0.0,\"#0d0887\"],[0.1111111111111111,\"#46039f\"],[0.2222222222222222,\"#7201a8\"],[0.3333333333333333,\"#9c179e\"],[0.4444444444444444,\"#bd3786\"],[0.5555555555555556,\"#d8576b\"],[0.6666666666666666,\"#ed7953\"],[0.7777777777777778,\"#fb9f3a\"],[0.8888888888888888,\"#fdca26\"],[1.0,\"#f0f921\"]],\"type\":\"heatmap\"}],\"heatmapgl\":[{\"colorbar\":{\"outlinewidth\":0,\"ticks\":\"\"},\"colorscale\":[[0.0,\"#0d0887\"],[0.1111111111111111,\"#46039f\"],[0.2222222222222222,\"#7201a8\"],[0.3333333333333333,\"#9c179e\"],[0.4444444444444444,\"#bd3786\"],[0.5555555555555556,\"#d8576b\"],[0.6666666666666666,\"#ed7953\"],[0.7777777777777778,\"#fb9f3a\"],[0.8888888888888888,\"#fdca26\"],[1.0,\"#f0f921\"]],\"type\":\"heatmapgl\"}],\"histogram\":[{\"marker\":{\"pattern\":{\"fillmode\":\"overlay\",\"size\":10,\"solidity\":0.2}},\"type\":\"histogram\"}],\"histogram2d\":[{\"colorbar\":{\"outlinewidth\":0,\"ticks\":\"\"},\"colorscale\":[[0.0,\"#0d0887\"],[0.1111111111111111,\"#46039f\"],[0.2222222222222222,\"#7201a8\"],[0.3333333333333333,\"#9c179e\"],[0.4444444444444444,\"#bd3786\"],[0.5555555555555556,\"#d8576b\"],[0.6666666666666666,\"#ed7953\"],[0.7777777777777778,\"#fb9f3a\"],[0.8888888888888888,\"#fdca26\"],[1.0,\"#f0f921\"]],\"type\":\"histogram2d\"}],\"histogram2dcontour\":[{\"colorbar\":{\"outlinewidth\":0,\"ticks\":\"\"},\"colorscale\":[[0.0,\"#0d0887\"],[0.1111111111111111,\"#46039f\"],[0.2222222222222222,\"#7201a8\"],[0.3333333333333333,\"#9c179e\"],[0.4444444444444444,\"#bd3786\"],[0.5555555555555556,\"#d8576b\"],[0.6666666666666666,\"#ed7953\"],[0.7777777777777778,\"#fb9f3a\"],[0.8888888888888888,\"#fdca26\"],[1.0,\"#f0f921\"]],\"type\":\"histogram2dcontour\"}],\"mesh3d\":[{\"colorbar\":{\"outlinewidth\":0,\"ticks\":\"\"},\"type\":\"mesh3d\"}],\"parcoords\":[{\"line\":{\"colorbar\":{\"outlinewidth\":0,\"ticks\":\"\"}},\"type\":\"parcoords\"}],\"pie\":[{\"automargin\":true,\"type\":\"pie\"}],\"scatter\":[{\"marker\":{\"colorbar\":{\"outlinewidth\":0,\"ticks\":\"\"}},\"type\":\"scatter\"}],\"scatter3d\":[{\"line\":{\"colorbar\":{\"outlinewidth\":0,\"ticks\":\"\"}},\"marker\":{\"colorbar\":{\"outlinewidth\":0,\"ticks\":\"\"}},\"type\":\"scatter3d\"}],\"scattercarpet\":[{\"marker\":{\"colorbar\":{\"outlinewidth\":0,\"ticks\":\"\"}},\"type\":\"scattercarpet\"}],\"scattergeo\":[{\"marker\":{\"colorbar\":{\"outlinewidth\":0,\"ticks\":\"\"}},\"type\":\"scattergeo\"}],\"scattergl\":[{\"marker\":{\"colorbar\":{\"outlinewidth\":0,\"ticks\":\"\"}},\"type\":\"scattergl\"}],\"scattermapbox\":[{\"marker\":{\"colorbar\":{\"outlinewidth\":0,\"ticks\":\"\"}},\"type\":\"scattermapbox\"}],\"scatterpolar\":[{\"marker\":{\"colorbar\":{\"outlinewidth\":0,\"ticks\":\"\"}},\"type\":\"scatterpolar\"}],\"scatterpolargl\":[{\"marker\":{\"colorbar\":{\"outlinewidth\":0,\"ticks\":\"\"}},\"type\":\"scatterpolargl\"}],\"scatterternary\":[{\"marker\":{\"colorbar\":{\"outlinewidth\":0,\"ticks\":\"\"}},\"type\":\"scatterternary\"}],\"surface\":[{\"colorbar\":{\"outlinewidth\":0,\"ticks\":\"\"},\"colorscale\":[[0.0,\"#0d0887\"],[0.1111111111111111,\"#46039f\"],[0.2222222222222222,\"#7201a8\"],[0.3333333333333333,\"#9c179e\"],[0.4444444444444444,\"#bd3786\"],[0.5555555555555556,\"#d8576b\"],[0.6666666666666666,\"#ed7953\"],[0.7777777777777778,\"#fb9f3a\"],[0.8888888888888888,\"#fdca26\"],[1.0,\"#f0f921\"]],\"type\":\"surface\"}],\"table\":[{\"cells\":{\"fill\":{\"color\":\"#EBF0F8\"},\"line\":{\"color\":\"white\"}},\"header\":{\"fill\":{\"color\":\"#C8D4E3\"},\"line\":{\"color\":\"white\"}},\"type\":\"table\"}]},\"layout\":{\"annotationdefaults\":{\"arrowcolor\":\"#2a3f5f\",\"arrowhead\":0,\"arrowwidth\":1},\"autotypenumbers\":\"strict\",\"coloraxis\":{\"colorbar\":{\"outlinewidth\":0,\"ticks\":\"\"}},\"colorscale\":{\"diverging\":[[0,\"#8e0152\"],[0.1,\"#c51b7d\"],[0.2,\"#de77ae\"],[0.3,\"#f1b6da\"],[0.4,\"#fde0ef\"],[0.5,\"#f7f7f7\"],[0.6,\"#e6f5d0\"],[0.7,\"#b8e186\"],[0.8,\"#7fbc41\"],[0.9,\"#4d9221\"],[1,\"#276419\"]],\"sequential\":[[0.0,\"#0d0887\"],[0.1111111111111111,\"#46039f\"],[0.2222222222222222,\"#7201a8\"],[0.3333333333333333,\"#9c179e\"],[0.4444444444444444,\"#bd3786\"],[0.5555555555555556,\"#d8576b\"],[0.6666666666666666,\"#ed7953\"],[0.7777777777777778,\"#fb9f3a\"],[0.8888888888888888,\"#fdca26\"],[1.0,\"#f0f921\"]],\"sequentialminus\":[[0.0,\"#0d0887\"],[0.1111111111111111,\"#46039f\"],[0.2222222222222222,\"#7201a8\"],[0.3333333333333333,\"#9c179e\"],[0.4444444444444444,\"#bd3786\"],[0.5555555555555556,\"#d8576b\"],[0.6666666666666666,\"#ed7953\"],[0.7777777777777778,\"#fb9f3a\"],[0.8888888888888888,\"#fdca26\"],[1.0,\"#f0f921\"]]},\"colorway\":[\"#636efa\",\"#EF553B\",\"#00cc96\",\"#ab63fa\",\"#FFA15A\",\"#19d3f3\",\"#FF6692\",\"#B6E880\",\"#FF97FF\",\"#FECB52\"],\"font\":{\"color\":\"#2a3f5f\"},\"geo\":{\"bgcolor\":\"white\",\"lakecolor\":\"white\",\"landcolor\":\"#E5ECF6\",\"showlakes\":true,\"showland\":true,\"subunitcolor\":\"white\"},\"hoverlabel\":{\"align\":\"left\"},\"hovermode\":\"closest\",\"mapbox\":{\"style\":\"light\"},\"paper_bgcolor\":\"white\",\"plot_bgcolor\":\"#E5ECF6\",\"polar\":{\"angularaxis\":{\"gridcolor\":\"white\",\"linecolor\":\"white\",\"ticks\":\"\"},\"bgcolor\":\"#E5ECF6\",\"radialaxis\":{\"gridcolor\":\"white\",\"linecolor\":\"white\",\"ticks\":\"\"}},\"scene\":{\"xaxis\":{\"backgroundcolor\":\"#E5ECF6\",\"gridcolor\":\"white\",\"gridwidth\":2,\"linecolor\":\"white\",\"showbackground\":true,\"ticks\":\"\",\"zerolinecolor\":\"white\"},\"yaxis\":{\"backgroundcolor\":\"#E5ECF6\",\"gridcolor\":\"white\",\"gridwidth\":2,\"linecolor\":\"white\",\"showbackground\":true,\"ticks\":\"\",\"zerolinecolor\":\"white\"},\"zaxis\":{\"backgroundcolor\":\"#E5ECF6\",\"gridcolor\":\"white\",\"gridwidth\":2,\"linecolor\":\"white\",\"showbackground\":true,\"ticks\":\"\",\"zerolinecolor\":\"white\"}},\"shapedefaults\":{\"line\":{\"color\":\"#2a3f5f\"}},\"ternary\":{\"aaxis\":{\"gridcolor\":\"white\",\"linecolor\":\"white\",\"ticks\":\"\"},\"baxis\":{\"gridcolor\":\"white\",\"linecolor\":\"white\",\"ticks\":\"\"},\"bgcolor\":\"#E5ECF6\",\"caxis\":{\"gridcolor\":\"white\",\"linecolor\":\"white\",\"ticks\":\"\"}},\"title\":{\"x\":0.05},\"xaxis\":{\"automargin\":true,\"gridcolor\":\"white\",\"linecolor\":\"white\",\"ticks\":\"\",\"title\":{\"standoff\":15},\"zerolinecolor\":\"white\",\"zerolinewidth\":2},\"yaxis\":{\"automargin\":true,\"gridcolor\":\"white\",\"linecolor\":\"white\",\"ticks\":\"\",\"title\":{\"standoff\":15},\"zerolinecolor\":\"white\",\"zerolinewidth\":2}}},\"xaxis\":{\"anchor\":\"y\",\"domain\":[0.0,1.0],\"scaleanchor\":\"y\",\"constrain\":\"domain\"},\"yaxis\":{\"anchor\":\"x\",\"domain\":[0.0,1.0],\"autorange\":\"reversed\",\"constrain\":\"domain\"},\"coloraxis\":{\"colorscale\":[[0.0,\"#0d0887\"],[0.1111111111111111,\"#46039f\"],[0.2222222222222222,\"#7201a8\"],[0.3333333333333333,\"#9c179e\"],[0.4444444444444444,\"#bd3786\"],[0.5555555555555556,\"#d8576b\"],[0.6666666666666666,\"#ed7953\"],[0.7777777777777778,\"#fb9f3a\"],[0.8888888888888888,\"#fdca26\"],[1.0,\"#f0f921\"]]},\"margin\":{\"t\":60}},                        {\"responsive\": true}                    ).then(function(){\n",
       "                            \n",
       "var gd = document.getElementById('55ef4730-60c2-454c-b5a1-b331fee2e60e');\n",
       "var x = new MutationObserver(function (mutations, observer) {{\n",
       "        var display = window.getComputedStyle(gd).display;\n",
       "        if (!display || display === 'none') {{\n",
       "            console.log([gd, 'removed!']);\n",
       "            Plotly.purge(gd);\n",
       "            observer.disconnect();\n",
       "        }}\n",
       "}});\n",
       "\n",
       "// Listen for the removal of the full notebook cells\n",
       "var notebookContainer = gd.closest('#notebook-container');\n",
       "if (notebookContainer) {{\n",
       "    x.observe(notebookContainer, {childList: true});\n",
       "}}\n",
       "\n",
       "// Listen for the clearing of the current output cell\n",
       "var outputEl = gd.closest('.output');\n",
       "if (outputEl) {{\n",
       "    x.observe(outputEl, {childList: true});\n",
       "}}\n",
       "\n",
       "                        })                };                });            </script>        </div>"
      ]
     },
     "metadata": {},
     "output_type": "display_data"
    }
   ],
   "source": [
    "fig = px.imshow(crypto_returns.corr())\n",
    "fig.show()"
   ]
  },
  {
   "attachments": {
    "9766de87-c80e-4394-9c39-798278b5adf5.png": {
     "image/png": "[encoded data removed]"
    },
    "da58a2b6-65ca-4168-929d-14e2e98eda4e.png": {
     "image/png": "[encoded data removed]"
    }
   },
   "cell_type": "markdown",
   "id": "21461d53-a64c-409f-ad64-48f7460b98b8",
   "metadata": {},
   "source": [
    "![image.png](attachment:da58a2b6-65ca-4168-929d-14e2e98eda4e.png)![image.png](attachment:9766de87-c80e-4394-9c39-798278b5adf5.png)"
   ]
  },
  {
   "cell_type": "code",
   "execution_count": null,
   "id": "48610ce9-bb43-4df3-8d87-a75eee5526ea",
   "metadata": {},
   "outputs": [],
   "source": []
  }
 ],
 "metadata": {
  "kernelspec": {
   "display_name": "Python 3 (ipykernel)",
   "language": "python",
   "name": "python3"
  },
  "language_info": {
   "codemirror_mode": {
    "name": "ipython",
    "version": 3
   },
   "file_extension": ".py",
   "mimetype": "text/x-python",
   "name": "python",
   "nbconvert_exporter": "python",
   "pygments_lexer": "ipython3",
   "version": "3.9.7"
  }
 },
 "nbformat": 4,
 "nbformat_minor": 5
}
